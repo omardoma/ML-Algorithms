{
 "cells": [
  {
   "cell_type": "code",
   "execution_count": 1,
   "metadata": {},
   "outputs": [],
   "source": [
    "import pandas as pd\n",
    "import gzip\n",
    "import itertools\n",
    "import numpy as np\n",
    "from sklearn import svm, datasets\n",
    "from sklearn.model_selection import train_test_split\n",
    "from sklearn.metrics import confusion_matrix\n",
    "from sklearn.feature_extraction.text import TfidfTransformer\n",
    "from sklearn.feature_extraction.text import TfidfVectorizer\n",
    "from sklearn.neural_network import MLPClassifier\n",
    "from sklearn import metrics\n",
    "from sklearn.model_selection import GridSearchCV\n",
    "import matplotlib.pyplot as plt\n"
   ]
  },
  {
   "cell_type": "markdown",
   "metadata": {},
   "source": [
    "###### convert json data to pandas data frame"
   ]
  },
  {
   "cell_type": "code",
   "execution_count": 2,
   "metadata": {},
   "outputs": [
    {
     "data": {
      "text/html": [
       "<div>\n",
       "<style scoped>\n",
       "    .dataframe tbody tr th:only-of-type {\n",
       "        vertical-align: middle;\n",
       "    }\n",
       "\n",
       "    .dataframe tbody tr th {\n",
       "        vertical-align: top;\n",
       "    }\n",
       "\n",
       "    .dataframe thead th {\n",
       "        text-align: right;\n",
       "    }\n",
       "</style>\n",
       "<table border=\"1\" class=\"dataframe\">\n",
       "  <thead>\n",
       "    <tr style=\"text-align: right;\">\n",
       "      <th></th>\n",
       "      <th>reviewerID</th>\n",
       "      <th>asin</th>\n",
       "      <th>reviewerName</th>\n",
       "      <th>helpful</th>\n",
       "      <th>reviewText</th>\n",
       "      <th>overall</th>\n",
       "      <th>summary</th>\n",
       "      <th>unixReviewTime</th>\n",
       "      <th>reviewTime</th>\n",
       "    </tr>\n",
       "  </thead>\n",
       "  <tbody>\n",
       "    <tr>\n",
       "      <th>0</th>\n",
       "      <td>A3EBHHCZO6V2A4</td>\n",
       "      <td>5555991584</td>\n",
       "      <td>Amaranth \"music fan\"</td>\n",
       "      <td>[3, 3]</td>\n",
       "      <td>It's hard to believe \"Memory of Trees\" came ou...</td>\n",
       "      <td>5.0</td>\n",
       "      <td>Enya's last great album</td>\n",
       "      <td>1158019200</td>\n",
       "      <td>09 12, 2006</td>\n",
       "    </tr>\n",
       "    <tr>\n",
       "      <th>1</th>\n",
       "      <td>AZPWAXJG9OJXV</td>\n",
       "      <td>5555991584</td>\n",
       "      <td>bethtexas</td>\n",
       "      <td>[0, 0]</td>\n",
       "      <td>A clasically-styled and introverted album, Mem...</td>\n",
       "      <td>5.0</td>\n",
       "      <td>Enya at her most elegant</td>\n",
       "      <td>991526400</td>\n",
       "      <td>06 3, 2001</td>\n",
       "    </tr>\n",
       "  </tbody>\n",
       "</table>\n",
       "</div>"
      ],
      "text/plain": [
       "       reviewerID        asin          reviewerName helpful  \\\n",
       "0  A3EBHHCZO6V2A4  5555991584  Amaranth \"music fan\"  [3, 3]   \n",
       "1   AZPWAXJG9OJXV  5555991584             bethtexas  [0, 0]   \n",
       "\n",
       "                                          reviewText  overall  \\\n",
       "0  It's hard to believe \"Memory of Trees\" came ou...      5.0   \n",
       "1  A clasically-styled and introverted album, Mem...      5.0   \n",
       "\n",
       "                    summary  unixReviewTime   reviewTime  \n",
       "0   Enya's last great album      1158019200  09 12, 2006  \n",
       "1  Enya at her most elegant       991526400   06 3, 2001  "
      ]
     },
     "execution_count": 2,
     "metadata": {},
     "output_type": "execute_result"
    }
   ],
   "source": [
    "def parse(path):\n",
    "    g = gzip.open(path, 'rb')\n",
    "    for l in g:\n",
    "        yield eval(l)\n",
    "\n",
    "def getDF(path):\n",
    "    i = 0\n",
    "    df = {}\n",
    "    for d in parse(path):\n",
    "        df[i] = d\n",
    "        i += 1\n",
    "    return pd.DataFrame.from_dict(df, orient='index')\n",
    "\n",
    "df = getDF('reviews_Digital_Music_5.json.gz')\n",
    "df.head(2)\n"
   ]
  },
  {
   "cell_type": "markdown",
   "metadata": {},
   "source": [
    "##### 1. Start by inspecting the dataset. You will notice that the dataset is not balanced. Display the count of reviews with overall rating =1, 2...5."
   ]
  },
  {
   "cell_type": "markdown",
   "metadata": {},
   "source": [
    "###### Display the count of reviews with overall rating =1,2...5."
   ]
  },
  {
   "cell_type": "code",
   "execution_count": 3,
   "metadata": {},
   "outputs": [
    {
     "name": "stdout",
     "output_type": "stream",
     "text": [
      "overall\n",
      "1.0     2791\n",
      "2.0     3010\n",
      "3.0     6789\n",
      "4.0    16536\n",
      "5.0    35580\n",
      "Name: reviewText, dtype: int64\n"
     ]
    }
   ],
   "source": [
    "print(df.groupby('overall').count()['reviewText'])"
   ]
  },
  {
   "cell_type": "markdown",
   "metadata": {},
   "source": [
    "##### 2. To train on a balanced dataset, select 2500 reviews for each of the overall ratings"
   ]
  },
  {
   "cell_type": "markdown",
   "metadata": {},
   "source": [
    "###### select 2500 reviews for each of the overall ratings"
   ]
  },
  {
   "cell_type": "code",
   "execution_count": 4,
   "metadata": {},
   "outputs": [
    {
     "name": "stdout",
     "output_type": "stream",
     "text": [
      "Number of overall rating of 5.0: 2500\n",
      "Number of overall rating of 4.0: 2500\n",
      "Number of overall rating of 3.0: 2500\n",
      "Number of overall rating of 2.0: 2500\n",
      "Number of overall rating of 1.0: 2500\n"
     ]
    }
   ],
   "source": [
    "df = df.groupby(\"overall\").head(2500)\n",
    "\n",
    "print(\"Number of overall rating of 5.0:\" , df[df['overall'] == 5.0]['reviewText'].count())\n",
    "print(\"Number of overall rating of 4.0:\" , df[df['overall'] == 4.0]['reviewText'].count())\n",
    "print(\"Number of overall rating of 3.0:\" , df[df['overall'] == 3.0]['reviewText'].count())\n",
    "print(\"Number of overall rating of 2.0:\" , df[df['overall'] == 2.0]['reviewText'].count())\n",
    "print(\"Number of overall rating of 1.0:\" , df[df['overall'] == 1.0]['reviewText'].count())\n",
    "\n"
   ]
  },
  {
   "cell_type": "markdown",
   "metadata": {},
   "source": [
    "###### choose the most relevant column from the df which is 'reviewText'"
   ]
  },
  {
   "cell_type": "code",
   "execution_count": 5,
   "metadata": {},
   "outputs": [],
   "source": [
    "x = np.array(df[\"reviewText\"])\n",
    "y = np.array(df['overall'])"
   ]
  },
  {
   "cell_type": "markdown",
   "metadata": {},
   "source": [
    "###### 4. divide the dataset into training, testing and validation sets"
   ]
  },
  {
   "cell_type": "code",
   "execution_count": 6,
   "metadata": {},
   "outputs": [],
   "source": [
    "X_train, X_test, Y_train, Y_test = train_test_split(x, y, test_size=0.2, random_state=1)\n",
    "X_train, X_val, Y_train, Y_val = train_test_split(X_train, Y_train, test_size=0.2, random_state=1)"
   ]
  },
  {
   "cell_type": "markdown",
   "metadata": {},
   "source": [
    "###### 3. transform review words to numeric features"
   ]
  },
  {
   "cell_type": "code",
   "execution_count": 7,
   "metadata": {},
   "outputs": [],
   "source": [
    "tfidf_vectorizer = TfidfVectorizer(max_features=40000)\n",
    "X_train_transformed = tfidf_vectorizer.fit_transform(X_train)\n",
    "X_test_transformed = tfidf_vectorizer.transform(X_test)"
   ]
  },
  {
   "cell_type": "markdown",
   "metadata": {},
   "source": [
    "###### create the MLP classifier"
   ]
  },
  {
   "cell_type": "code",
   "execution_count": 8,
   "metadata": {},
   "outputs": [
    {
     "data": {
      "text/plain": [
       "MLPClassifier(activation='relu', alpha=0.0001, batch_size='auto', beta_1=0.9,\n",
       "       beta_2=0.999, early_stopping=True, epsilon=1e-08,\n",
       "       hidden_layer_sizes=(100,), learning_rate='constant',\n",
       "       learning_rate_init=0.001, max_iter=200, momentum=0.9,\n",
       "       nesterovs_momentum=True, power_t=0.5, random_state=None,\n",
       "       shuffle=True, solver='adam', tol=0.0001, validation_fraction=0.1,\n",
       "       verbose=False, warm_start=False)"
      ]
     },
     "execution_count": 8,
     "metadata": {},
     "output_type": "execute_result"
    }
   ],
   "source": [
    "clf = MLPClassifier(early_stopping=True)\n",
    "clf.fit(X_train_transformed, Y_train)"
   ]
  },
  {
   "cell_type": "markdown",
   "metadata": {},
   "source": [
    "##### 5. Use the appropriate scoring metric for evaluating your neural networks."
   ]
  },
  {
   "cell_type": "code",
   "execution_count": 9,
   "metadata": {},
   "outputs": [
    {
     "data": {
      "text/plain": [
       "0.612"
      ]
     },
     "execution_count": 9,
     "metadata": {},
     "output_type": "execute_result"
    }
   ],
   "source": [
    "# using accuracy scoring metrix for evaluating the nueral network\n",
    "# because it's the most suitable when dealing with a balanced dataset\n",
    "metrics.accuracy_score(clf.predict(X_test_transformed), Y_test)"
   ]
  },
  {
   "cell_type": "markdown",
   "metadata": {},
   "source": [
    "##### 6. Attempt to train a neural network with 1, 2 or 3 layers and different number of nodes [128, 512, 1024]."
   ]
  },
  {
   "cell_type": "markdown",
   "metadata": {},
   "source": [
    "###### trying 1 hidden layer with 128 nodes"
   ]
  },
  {
   "cell_type": "code",
   "execution_count": 10,
   "metadata": {},
   "outputs": [
    {
     "data": {
      "text/plain": [
       "0.6148"
      ]
     },
     "execution_count": 10,
     "metadata": {},
     "output_type": "execute_result"
    }
   ],
   "source": [
    "clf = MLPClassifier(early_stopping=True, hidden_layer_sizes=(128,))\n",
    "clf.fit(X_train_transformed, Y_train)\n",
    "\n",
    "metrics.accuracy_score(clf.predict(X_test_transformed), Y_test)\n",
    "#increasing the number of nodes in the hidden layer did not contribute in enhancing the performance."
   ]
  },
  {
   "cell_type": "markdown",
   "metadata": {},
   "source": [
    "###### trying 2 hidden layers with different number of nodes"
   ]
  },
  {
   "cell_type": "code",
   "execution_count": 9,
   "metadata": {},
   "outputs": [
    {
     "data": {
      "text/plain": [
       "0.6084"
      ]
     },
     "execution_count": 9,
     "metadata": {},
     "output_type": "execute_result"
    }
   ],
   "source": [
    "clf = MLPClassifier(early_stopping=True, hidden_layer_sizes=(128, 512))\n",
    "clf.fit(X_train_transformed, Y_train)\n",
    "\n",
    "metrics.accuracy_score(clf.predict(X_test_transformed), Y_test)\n",
    "# performance did not get better"
   ]
  },
  {
   "cell_type": "markdown",
   "metadata": {},
   "source": [
    "###### trying 3 hidden layers with different number of nodes"
   ]
  },
  {
   "cell_type": "code",
   "execution_count": 11,
   "metadata": {},
   "outputs": [
    {
     "data": {
      "text/plain": [
       "0.5896"
      ]
     },
     "execution_count": 11,
     "metadata": {},
     "output_type": "execute_result"
    }
   ],
   "source": [
    "clf = MLPClassifier(early_stopping=True, hidden_layer_sizes=(128, 512, 1024,))\n",
    "clf.fit(X_train_transformed, Y_train)\n",
    "\n",
    "metrics.accuracy_score(clf.predict(X_test_transformed), Y_test)\n",
    "# worst architecture because the validation score is the lowest here"
   ]
  },
  {
   "cell_type": "markdown",
   "metadata": {},
   "source": [
    " 1 hidden layer with number of nodes = 128 has the best performance sofar."
   ]
  },
  {
   "cell_type": "markdown",
   "metadata": {},
   "source": [
    "##### 7.plot the normalized confusion matrix for the best performing architecture"
   ]
  },
  {
   "cell_type": "code",
   "execution_count": 12,
   "metadata": {},
   "outputs": [],
   "source": [
    "def plot_confusion_matrix(cm, classes,\n",
    "                          normalize=False,\n",
    "                          title='Confusion matrix',\n",
    "                          cmap=plt.cm.Blues):\n",
    "    \"\"\"\n",
    "    This function prints and plots the confusion matrix.\n",
    "    Normalization can be applied by setting `normalize=True`.\n",
    "    \"\"\"\n",
    "    if normalize:\n",
    "        cm = cm.astype('float') / cm.sum(axis=1)[:, np.newaxis]\n",
    "        print(\"Normalized confusion matrix\")\n",
    "    else:\n",
    "        print('Confusion matrix, without normalization')\n",
    "\n",
    "    print(cm)\n",
    "\n",
    "    plt.imshow(cm, interpolation='nearest', cmap=cmap)\n",
    "    plt.title(title)\n",
    "    plt.colorbar()\n",
    "    tick_marks = np.arange(len(classes))\n",
    "    plt.xticks(tick_marks, classes, rotation=45)\n",
    "    plt.yticks(tick_marks, classes)\n",
    "\n",
    "    fmt = '.2f' if normalize else 'd'\n",
    "    thresh = cm.max() / 2.\n",
    "    for i, j in itertools.product(range(cm.shape[0]), range(cm.shape[1])):\n",
    "        plt.text(j, i, format(cm[i, j], fmt),\n",
    "                 horizontalalignment=\"center\",\n",
    "                 color=\"white\" if cm[i, j] > thresh else \"black\")\n",
    "\n",
    "    plt.ylabel('True label')\n",
    "    plt.xlabel('Predicted label')\n",
    "    plt.tight_layout()"
   ]
  },
  {
   "cell_type": "markdown",
   "metadata": {},
   "source": [
    "###### Compute the confusion matrix"
   ]
  },
  {
   "cell_type": "code",
   "execution_count": 13,
   "metadata": {},
   "outputs": [],
   "source": [
    "y_pred = clf.predict(X_test_transformed)\n",
    "cnf_matrix = confusion_matrix(Y_test, y_pred)\n",
    "np.set_printoptions(precision=2)\n"
   ]
  },
  {
   "cell_type": "markdown",
   "metadata": {},
   "source": [
    "###### Plot normalized confusion matrix"
   ]
  },
  {
   "cell_type": "code",
   "execution_count": 14,
   "metadata": {},
   "outputs": [
    {
     "name": "stdout",
     "output_type": "stream",
     "text": [
      "Normalized confusion matrix\n",
      "[[0.71 0.18 0.07 0.02 0.01]\n",
      " [0.26 0.44 0.25 0.03 0.02]\n",
      " [0.04 0.12 0.56 0.23 0.06]\n",
      " [0.03 0.03 0.18 0.61 0.15]\n",
      " [0.02 0.02 0.03 0.16 0.77]]\n"
     ]
    },
    {
     "data": {
      "image/png": "[encoded data removed]",
      "text/plain": [
       "<Figure size 432x288 with 2 Axes>"
      ]
     },
     "metadata": {
      "needs_background": "light"
     },
     "output_type": "display_data"
    }
   ],
   "source": [
    "plt.figure()\n",
    "class_names = ['5.0', '4.0', '3.0', '2.0','1.0']\n",
    "plot_confusion_matrix(cnf_matrix, classes=class_names, normalize=True,\n",
    "                      title='Normalized confusion matrix')\n",
    "\n",
    "plt.show()"
   ]
  },
  {
   "cell_type": "code",
   "execution_count": null,
   "metadata": {},
   "outputs": [],
   "source": [
    "# Accroding to the confusion matrix plot results:\n",
    "# class 1.0: about 24% only of class 1.0 reviews were misclassified which is not bad.\n",
    "\n",
    "# class 2.0: about 40% of class 2 reviews were misclassified and\n",
    "# the reason why this class has more missclassifications that class 1.0\n",
    "# might be that reviews that indicates unsatisfiction are more likely to have rating of 1 rather than 2 .\n",
    "\n",
    "# class 3.0: about 50% of data points belonging to this class were misclassified \n",
    "# and it might be that nuetral reviews can not be easily detected so they were classfied either as class 2.0 or 4.0\n",
    "\n",
    "# class 4.0: about 47% of data points belonging to this class were misclassified \n",
    "# and it might be that because some poeple are showing high levels of satisfiction but still giving rating of 4.0.\n",
    "\n",
    "# class 5.0: about 30% only of this class reviews were misclassified which is good enough.\n",
    "\n",
    "# classes 5.0 and 1.0 are the easiest to classify because they might contain strong expressions that made it easier \n",
    "# for the nueral network to make correct classifications. \n",
    "# unlike classses 2.0 , 3.0 and 4.0 that might contain nuetral expressions\n",
    "# which makes it harder  for the network to classify them.\n"
   ]
  },
  {
   "cell_type": "markdown",
   "metadata": {},
   "source": [
    "###### 8. What is the activation function used at the output layer? Did you have to select this function yourself? How does SKLearn determines it?"
   ]
  },
  {
   "cell_type": "code",
   "execution_count": 16,
   "metadata": {},
   "outputs": [
    {
     "data": {
      "text/plain": [
       "'softmax'"
      ]
     },
     "execution_count": 16,
     "metadata": {},
     "output_type": "execute_result"
    }
   ],
   "source": [
    "clf.out_activation_"
   ]
  },
  {
   "cell_type": "markdown",
   "metadata": {},
   "source": [
    "the activation function used at the output layer is 'softmax'.\n",
    "No, i did not have to specify it.\n",
    "SKLearn uses softmax by default for multiclass models"
   ]
  },
  {
   "cell_type": "markdown",
   "metadata": {},
   "source": [
    "the reason for using the softmax is to ensure logits all sum up to 1, thereby fulfilling the constraints of a probability density. If we are try to predict whether a medical image contain cancer or not (simply yes or no), then the probability of a positive result (yes) and a negative result (no) must sum up to one. o the model produces a probability vector for each outcome."
   ]
  },
  {
   "cell_type": "markdown",
   "metadata": {},
   "source": [
    "# Bonus"
   ]
  },
  {
   "cell_type": "markdown",
   "metadata": {},
   "source": [
    "##### 1. Print out the actual rating and predicted values for part of the test set."
   ]
  },
  {
   "cell_type": "code",
   "execution_count": 45,
   "metadata": {},
   "outputs": [
    {
     "name": "stdout",
     "output_type": "stream",
     "text": [
      "Actual ratings for the first 3 reviews\n",
      " [[3.]\n",
      " [1.]\n",
      " [5.]]\n",
      "Predicted ratings for the first 3 reviews\n",
      " [[4.]\n",
      " [2.]\n",
      " [5.]]\n"
     ]
    }
   ],
   "source": [
    "print(\"Actual ratings for the first 3 reviews\\n\" , Y_test[:3].reshape(3,1))\n",
    "print(\"Predicted ratings for the first 3 reviews\\n\" , y_pred[:3].reshape(3,1))"
   ]
  },
  {
   "cell_type": "markdown",
   "metadata": {},
   "source": [
    "###### 2. Describe how the network fails, causing the low test and validation scores."
   ]
  },
  {
   "cell_type": "markdown",
   "metadata": {},
   "source": [
    "the network fails because text data are ambigious and the data set was not preproccessed appropriatly to make sure that no redundant data points exist, such as stops words and punctuations."
   ]
  },
  {
   "cell_type": "markdown",
   "metadata": {},
   "source": [
    "#### 3. Suggest a modification in the network (type, dataset, output format, scoring metric) that best fits the network behavior you observed in the previous step."
   ]
  },
  {
   "cell_type": "markdown",
   "metadata": {},
   "source": [
    "a) Change output format to int and use average_precision scoring matrix.\n",
    "b) Preprocess data using the following steps: \n",
    "1- tokenize \n",
    "2- modify tokens by removing stop words,\n",
    "3- normalize\n",
    "4- stemm \n",
    "5- case folding.\n",
    "\n",
    "c) Increase the number of feature_count to 80000 instead of 4000\n",
    "d) Replace the binary numbers in the word vector with ratios that emphaise how rare (and hence meanigful and representative) the word is across all reviews."
   ]
  }
 ],
 "metadata": {
  "kernelspec": {
   "display_name": "Python 3",
   "language": "python",
   "name": "python3"
  },
  "language_info": {
   "codemirror_mode": {
    "name": "ipython",
    "version": 3
   },
   "file_extension": ".py",
   "mimetype": "text/x-python",
   "name": "python",
   "nbconvert_exporter": "python",
   "pygments_lexer": "ipython3",
   "version": "3.7.0"
  }
 },
 "nbformat": 4,
 "nbformat_minor": 2
}
