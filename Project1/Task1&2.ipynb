{
 "cells": [
  {
   "cell_type": "markdown",
   "metadata": {},
   "source": [
    "# Task 1"
   ]
  },
  {
   "cell_type": "code",
   "execution_count": 8,
   "metadata": {},
   "outputs": [],
   "source": [
    "import numpy as np\n",
    "import pandas as pd\n",
    "from sklearn import metrics\n",
    "from sklearn.neural_network import MLPRegressor\n",
    "from sklearn.model_selection import cross_val_score, train_test_split, validation_curve, KFold, GridSearchCV\n",
    "import matplotlib.pyplot as plt"
   ]
  },
  {
   "cell_type": "code",
   "execution_count": 9,
   "metadata": {},
   "outputs": [
    {
     "data": {
      "text/html": [
       "<div>\n",
       "<style scoped>\n",
       "    .dataframe tbody tr th:only-of-type {\n",
       "        vertical-align: middle;\n",
       "    }\n",
       "\n",
       "    .dataframe tbody tr th {\n",
       "        vertical-align: top;\n",
       "    }\n",
       "\n",
       "    .dataframe thead th {\n",
       "        text-align: right;\n",
       "    }\n",
       "</style>\n",
       "<table border=\"1\" class=\"dataframe\">\n",
       "  <thead>\n",
       "    <tr style=\"text-align: right;\">\n",
       "      <th></th>\n",
       "      <th>SP500</th>\n",
       "      <th>MMM</th>\n",
       "      <th>ABT</th>\n",
       "      <th>ABBV</th>\n",
       "      <th>ACN</th>\n",
       "      <th>ATVI</th>\n",
       "      <th>AYI</th>\n",
       "      <th>ADBE</th>\n",
       "      <th>AMD</th>\n",
       "      <th>AAP</th>\n",
       "      <th>...</th>\n",
       "      <th>WMB</th>\n",
       "      <th>WYNN</th>\n",
       "      <th>XEL</th>\n",
       "      <th>XRX</th>\n",
       "      <th>XLNX</th>\n",
       "      <th>XYL</th>\n",
       "      <th>YUM</th>\n",
       "      <th>ZBH</th>\n",
       "      <th>ZION</th>\n",
       "      <th>ZTS</th>\n",
       "    </tr>\n",
       "  </thead>\n",
       "  <tbody>\n",
       "    <tr>\n",
       "      <th>0</th>\n",
       "      <td>1676.12</td>\n",
       "      <td>104.8617</td>\n",
       "      <td>30.0317</td>\n",
       "      <td>38.7049</td>\n",
       "      <td>64.8930</td>\n",
       "      <td>16.0295</td>\n",
       "      <td>94.7727</td>\n",
       "      <td>50.82</td>\n",
       "      <td>3.86</td>\n",
       "      <td>81.2615</td>\n",
       "      <td>...</td>\n",
       "      <td>27.0806</td>\n",
       "      <td>139.1379</td>\n",
       "      <td>22.8062</td>\n",
       "      <td>23.7407</td>\n",
       "      <td>41.0246</td>\n",
       "      <td>26.1189</td>\n",
       "      <td>46.4083</td>\n",
       "      <td>79.8048</td>\n",
       "      <td>25.8329</td>\n",
       "      <td>30.7332</td>\n",
       "    </tr>\n",
       "    <tr>\n",
       "      <th>1</th>\n",
       "      <td>1655.45</td>\n",
       "      <td>103.5100</td>\n",
       "      <td>29.5924</td>\n",
       "      <td>37.3865</td>\n",
       "      <td>63.7629</td>\n",
       "      <td>15.8936</td>\n",
       "      <td>93.2675</td>\n",
       "      <td>49.58</td>\n",
       "      <td>3.72</td>\n",
       "      <td>80.5379</td>\n",
       "      <td>...</td>\n",
       "      <td>26.7222</td>\n",
       "      <td>137.5369</td>\n",
       "      <td>23.1504</td>\n",
       "      <td>23.1472</td>\n",
       "      <td>40.3263</td>\n",
       "      <td>25.5592</td>\n",
       "      <td>46.5642</td>\n",
       "      <td>79.9583</td>\n",
       "      <td>25.7091</td>\n",
       "      <td>30.3482</td>\n",
       "    </tr>\n",
       "  </tbody>\n",
       "</table>\n",
       "<p>2 rows × 387 columns</p>\n",
       "</div>"
      ],
      "text/plain": [
       "     SP500       MMM      ABT     ABBV      ACN     ATVI      AYI   ADBE  \\\n",
       "0  1676.12  104.8617  30.0317  38.7049  64.8930  16.0295  94.7727  50.82   \n",
       "1  1655.45  103.5100  29.5924  37.3865  63.7629  15.8936  93.2675  49.58   \n",
       "\n",
       "    AMD      AAP   ...         WMB      WYNN      XEL      XRX     XLNX  \\\n",
       "0  3.86  81.2615   ...     27.0806  139.1379  22.8062  23.7407  41.0246   \n",
       "1  3.72  80.5379   ...     26.7222  137.5369  23.1504  23.1472  40.3263   \n",
       "\n",
       "       XYL      YUM      ZBH     ZION      ZTS  \n",
       "0  26.1189  46.4083  79.8048  25.8329  30.7332  \n",
       "1  25.5592  46.5642  79.9583  25.7091  30.3482  \n",
       "\n",
       "[2 rows x 387 columns]"
      ]
     },
     "execution_count": 9,
     "metadata": {},
     "output_type": "execute_result"
    }
   ],
   "source": [
    "df = pd.read_csv('sp500.csv',index_col=0)\n",
    "df.head(2)"
   ]
  },
  {
   "cell_type": "markdown",
   "metadata": {},
   "source": [
    "#### 1. Start by finding out which stocks of the 387 are most correlated with the S&P index value. For the prediction task, you should use the stocks with (correlation ≥ 0.95 or correlation ≤ -0.95)."
   ]
  },
  {
   "cell_type": "code",
   "execution_count": 11,
   "metadata": {
    "scrolled": true
   },
   "outputs": [
    {
     "name": "stdout",
     "output_type": "stream",
     "text": [
      "Index(['ACN', 'ATVI', 'ADBE', 'AET', 'AFL', 'A', 'ALL', 'AMT', 'APH', 'ADI',\n",
      "       'ANTM', 'AON', 'AAPL', 'AJG', 'ADSK', 'ADP', 'BK', 'BAX', 'BBT', 'BDX',\n",
      "       'BRK.B', 'BLK', 'CDNS', 'CTAS', 'CSCO', 'CTXS', 'CME', 'CSX', 'ECL',\n",
      "       'EXPD', 'FDX', 'HRS', 'IQV', 'JBHT', 'JPM', 'KLAC', 'LLL', 'LH', 'LRCX',\n",
      "       'LMT', 'MAR', 'MMC', 'MA', 'MSFT', 'NEE', 'NTRS', 'PGR', 'PLD', 'RJF',\n",
      "       'RTN', 'RSG', 'COL', 'ROP', 'SHW', 'SPGI', 'SYK', 'STI', 'SNPS', 'TEL',\n",
      "       'TXN', 'TMO', 'TMK', 'TSS', 'TDG', 'UNH', 'V', 'WM', 'WAT', 'XYL',\n",
      "       'YUM', 'ZTS'],\n",
      "      dtype='object')\n",
      "71\n"
     ]
    }
   ],
   "source": [
    "corr = df.corr()['SP500'].abs() >= 0.95 \n",
    "cols = corr[(corr >= 0.95)].drop('SP500')\n",
    "colNames = cols.index\n",
    "print(colNames)\n",
    "print(colNames.size)\n",
    "# there are 71 companies whose products are most correlated with the S&P index"
   ]
  },
  {
   "cell_type": "markdown",
   "metadata": {},
   "source": [
    "#### 2. For the training, divide the dataset into training, testing and validation sets. Indicate the ratios you use for the division."
   ]
  },
  {
   "cell_type": "markdown",
   "metadata": {},
   "source": [
    "##### Normalise the dataset"
   ]
  },
  {
   "cell_type": "code",
   "execution_count": 4,
   "metadata": {},
   "outputs": [],
   "source": [
    "dfn = (df - df.mean()) / df.std()\n",
    "\n",
    "x = np.array(dfn[colNames])\n",
    "y = np.array(dfn['SP500'])"
   ]
  },
  {
   "cell_type": "markdown",
   "metadata": {},
   "source": [
    "###### Divide the dataset into training, testing and validation sets"
   ]
  },
  {
   "cell_type": "code",
   "execution_count": 5,
   "metadata": {},
   "outputs": [],
   "source": [
    "# Testing set is 20% of the whole data set\n",
    "X_train, X_test, Y_train, Y_test = train_test_split(x, y, test_size=0.2, random_state=1)\n",
    "# Validation set is 20% of the training set \n",
    "X_train, X_val, Y_train, Y_val = train_test_split(X_train, Y_train, test_size=0.2, random_state=1)\n"
   ]
  },
  {
   "cell_type": "markdown",
   "metadata": {},
   "source": [
    "##### Un-normalized dataset for plotting\n"
   ]
  },
  {
   "cell_type": "code",
   "execution_count": 6,
   "metadata": {},
   "outputs": [],
   "source": [
    "df = pd.read_csv('sp500.csv',index_col=0)\n",
    "x = np.array(df[colNames])\n",
    "y = np.array(df['SP500'])\n",
    "\n",
    "un_norm_x_train, un_norm_x_test, un_norm_y_train, un_norm_y_test = train_test_split(x, y, test_size=0.2, random_state=1)\n",
    "df.head(2)\n",
    "y_mean = y.mean()\n",
    "y_std = y.std()\n"
   ]
  },
  {
   "cell_type": "markdown",
   "metadata": {},
   "source": [
    "#### 3. Indicate the scoring metric suitable for the task. "
   ]
  },
  {
   "cell_type": "markdown",
   "metadata": {},
   "source": [
    "###### use the mean_squared_error scoring matrix  (most suitable for regression model)"
   ]
  },
  {
   "cell_type": "code",
   "execution_count": 11,
   "metadata": {},
   "outputs": [
    {
     "name": "stdout",
     "output_type": "stream",
     "text": [
      "[0.02894991 0.00666455 0.00707095]\n"
     ]
    }
   ],
   "source": [
    "clf = MLPRegressor()\n",
    "clf.fit(X_train, Y_train)  \n",
    "print(abs(cross_val_score(clf, X_train, Y_train, cv=3, scoring='neg_mean_squared_error'))) "
   ]
  },
  {
   "cell_type": "markdown",
   "metadata": {},
   "source": [
    "#### 4. Train the neural network with both the sgd and adam optimizers. Attempt different values for the learning rate with each optimizer to achieve the best result."
   ]
  },
  {
   "cell_type": "markdown",
   "metadata": {},
   "source": [
    "###### train with SGD at learning rate = 0.0001"
   ]
  },
  {
   "cell_type": "code",
   "execution_count": 12,
   "metadata": {},
   "outputs": [
    {
     "name": "stdout",
     "output_type": "stream",
     "text": [
      "[0.05169999 0.034564   0.07086672]\n"
     ]
    },
    {
     "data": {
      "text/plain": [
       "0.030593367808550397"
      ]
     },
     "execution_count": 12,
     "metadata": {},
     "output_type": "execute_result"
    }
   ],
   "source": [
    "clf = MLPRegressor( max_iter=500, solver='sgd' , learning_rate_init=0.0001)\n",
    "clf.fit(X_train, Y_train)  \n",
    "print(abs(cross_val_score(clf, X_train, Y_train, cv=3, scoring='neg_mean_squared_error'))) \n",
    "\n",
    "preds = clf.predict(X_test)\n",
    "metrics.mean_squared_error(Y_test, preds)\n",
    "\n",
    "# mean square error values are quite high at both training and testing phases and it could be better"
   ]
  },
  {
   "cell_type": "markdown",
   "metadata": {},
   "source": [
    "###### train with SGD at learning rate = 0.001"
   ]
  },
  {
   "cell_type": "code",
   "execution_count": 41,
   "metadata": {},
   "outputs": [
    {
     "name": "stdout",
     "output_type": "stream",
     "text": [
      "[0.01952043 0.1749998  0.04319444]\n"
     ]
    },
    {
     "data": {
      "text/plain": [
       "0.019426090486214822"
      ]
     },
     "execution_count": 41,
     "metadata": {},
     "output_type": "execute_result"
    }
   ],
   "source": [
    "clf = MLPRegressor( max_iter=500, solver='sgd' , learning_rate_init=0.001)\n",
    "clf.fit(X_train, Y_train)  \n",
    "print(abs(cross_val_score(clf, X_train, Y_train, cv=3, scoring='neg_mean_squared_error'))) \n",
    "\n",
    "preds = clf.predict(X_test)\n",
    "metrics.mean_squared_error(Y_test, preds)\n",
    "\n",
    "# mean square error values are decrasing by increasing the learning rate to 0.001, resulting in better performance."
   ]
  },
  {
   "cell_type": "markdown",
   "metadata": {},
   "source": [
    "###### train with SGD at learning rate = 0.01"
   ]
  },
  {
   "cell_type": "code",
   "execution_count": 42,
   "metadata": {},
   "outputs": [
    {
     "name": "stdout",
     "output_type": "stream",
     "text": [
      "[0.00624488 0.00614535 0.00576618]\n"
     ]
    },
    {
     "data": {
      "text/plain": [
       "0.0060608849287405045"
      ]
     },
     "execution_count": 42,
     "metadata": {},
     "output_type": "execute_result"
    }
   ],
   "source": [
    "clf = MLPRegressor( max_iter=500, solver='sgd' , learning_rate_init=0.01)\n",
    "clf.fit(X_train, Y_train)  \n",
    "print(abs(cross_val_score(clf, X_train, Y_train, cv=3, scoring='neg_mean_squared_error'))) \n",
    "\n",
    "preds = clf.predict(X_test)\n",
    "metrics.mean_squared_error(Y_test, preds)\n",
    "\n",
    "# mean square error values are now very small after increasing the learning rate to 0.01,\n",
    "#indicating the best performance sofar"
   ]
  },
  {
   "cell_type": "markdown",
   "metadata": {},
   "source": [
    "###### train with Adam at learning rate = 0.0001"
   ]
  },
  {
   "cell_type": "code",
   "execution_count": 43,
   "metadata": {},
   "outputs": [
    {
     "name": "stdout",
     "output_type": "stream",
     "text": [
      "[0.01822568 0.01291109 0.02298443]\n"
     ]
    },
    {
     "data": {
      "text/plain": [
       "0.02142735611311774"
      ]
     },
     "execution_count": 43,
     "metadata": {},
     "output_type": "execute_result"
    }
   ],
   "source": [
    "clf = MLPRegressor( max_iter=500 , solver='adam', learning_rate_init=0.0001)\n",
    "clf.fit(X_train, Y_train)  \n",
    "print(abs(cross_val_score(clf, X_train, Y_train, cv=3, scoring='neg_mean_squared_error'))) \n",
    "\n",
    "preds = clf.predict(X_test)\n",
    "metrics.mean_squared_error(Y_test, preds)\n",
    "\n",
    "# results after using adam optimizer at learning rate = 0.0001 are a little bit better than \n",
    "# the results produced using sgd at learning rate = 0.001 especially at the testing phase"
   ]
  },
  {
   "cell_type": "markdown",
   "metadata": {},
   "source": [
    "###### train with Adams at learning rate = 0.001"
   ]
  },
  {
   "cell_type": "code",
   "execution_count": 44,
   "metadata": {},
   "outputs": [
    {
     "name": "stdout",
     "output_type": "stream",
     "text": [
      "[0.01053652 0.00635826 0.00500393]\n"
     ]
    },
    {
     "data": {
      "text/plain": [
       "0.00734532266420963"
      ]
     },
     "execution_count": 44,
     "metadata": {},
     "output_type": "execute_result"
    }
   ],
   "source": [
    "clf = MLPRegressor( max_iter=500 , solver='adam', learning_rate_init=0.001)\n",
    "clf.fit(X_train, Y_train)  \n",
    "print(abs(cross_val_score(clf, X_train, Y_train, cv=3, scoring='neg_mean_squared_error'))) \n",
    "\n",
    "preds = clf.predict(X_test)\n",
    "metrics.mean_squared_error(Y_test, preds)\n",
    "\n",
    "# performance here is getting better by increasing the learning rate to 0.001"
   ]
  },
  {
   "cell_type": "markdown",
   "metadata": {},
   "source": [
    "###### train with Adams at learning rate = 0.01"
   ]
  },
  {
   "cell_type": "code",
   "execution_count": 50,
   "metadata": {},
   "outputs": [
    {
     "name": "stdout",
     "output_type": "stream",
     "text": [
      "[0.00729983 0.00723043 0.00503021]\n"
     ]
    },
    {
     "data": {
      "text/plain": [
       "0.004475934028718002"
      ]
     },
     "execution_count": 50,
     "metadata": {},
     "output_type": "execute_result"
    }
   ],
   "source": [
    "clf = MLPRegressor( max_iter=500 , solver='adam', learning_rate_init=0.01)\n",
    "clf.fit(X_train, Y_train)  \n",
    "print(abs(cross_val_score(clf, X_train, Y_train, cv=3, scoring='neg_mean_squared_error'))) \n",
    "\n",
    "preds = clf.predict(X_test)\n",
    "metrics.mean_squared_error(Y_test, preds)\n",
    "\n",
    "# using adam optimizer at learning rate = 0.01 has the best performance so far\n",
    "# because it results in the least mean square error values."
   ]
  },
  {
   "cell_type": "markdown",
   "metadata": {},
   "source": [
    "###### testing our conclusion for the best learning rate value using grid search"
   ]
  },
  {
   "cell_type": "code",
   "execution_count": 51,
   "metadata": {},
   "outputs": [
    {
     "data": {
      "text/plain": [
       "{'learning_rate_init': 0.01}"
      ]
     },
     "execution_count": 51,
     "metadata": {},
     "output_type": "execute_result"
    }
   ],
   "source": [
    "param_grid = {'learning_rate_init' : [0.0001, 0.001, 0.01, 0.1, 0.2, 0.5]}\n",
    "\n",
    "gs = GridSearchCV(clf, param_grid=param_grid)\n",
    "gs.fit(X_train, Y_train)\n",
    "gs.best_params_"
   ]
  },
  {
   "cell_type": "markdown",
   "metadata": {},
   "source": [
    "###### testing our conclusion for the best optimizer using grid search at learning rate 0.01"
   ]
  },
  {
   "cell_type": "code",
   "execution_count": 24,
   "metadata": {},
   "outputs": [
    {
     "data": {
      "text/plain": [
       "{'learning_rate_init': 0.01, 'solver': 'adam'}"
      ]
     },
     "execution_count": 24,
     "metadata": {},
     "output_type": "execute_result"
    }
   ],
   "source": [
    "param_grid = {'learning_rate_init': [0.01], 'solver' : ['sgd' , 'adam']}\n",
    "\n",
    "gs = GridSearchCV(clf, param_grid=param_grid)\n",
    "gs.fit(X_train, Y_train)\n",
    "gs.best_params_"
   ]
  },
  {
   "cell_type": "markdown",
   "metadata": {},
   "source": [
    "#### 5. Indicate which regularization technique you use to avoid overfitting."
   ]
  },
  {
   "cell_type": "markdown",
   "metadata": {},
   "source": [
    "###### Investigation Early stopping effect"
   ]
  },
  {
   "cell_type": "code",
   "execution_count": 102,
   "metadata": {},
   "outputs": [
    {
     "name": "stdout",
     "output_type": "stream",
     "text": [
      "[0.02778342 0.0533647  0.44499792]\n"
     ]
    },
    {
     "data": {
      "text/plain": [
       "0.005371108911890875"
      ]
     },
     "execution_count": 102,
     "metadata": {},
     "output_type": "execute_result"
    }
   ],
   "source": [
    "clf = MLPRegressor( max_iter=500 , solver='adam', learning_rate_init=0.01, early_stopping=True )\n",
    "clf.fit(X_train, Y_train)  \n",
    "print(abs(cross_val_score(clf, X_train, Y_train, cv=3, scoring='neg_mean_squared_error'))) \n",
    "\n",
    "preds = clf.predict(X_test)\n",
    "metrics.mean_squared_error(Y_test, preds)\n",
    "# perforamce is almost the same after enabling early stopping !"
   ]
  },
  {
   "cell_type": "markdown",
   "metadata": {},
   "source": [
    "###### Investigation Early stopping effect with alpha = 0.001"
   ]
  },
  {
   "cell_type": "code",
   "execution_count": 150,
   "metadata": {},
   "outputs": [
    {
     "name": "stdout",
     "output_type": "stream",
     "text": [
      "[0.03935516 0.00404541 0.00476973]\n"
     ]
    },
    {
     "data": {
      "text/plain": [
       "0.0030483717626122665"
      ]
     },
     "execution_count": 150,
     "metadata": {},
     "output_type": "execute_result"
    }
   ],
   "source": [
    "clf = MLPRegressor(alpha=0.001,  max_iter=500 , solver='adam', learning_rate_init=0.01, early_stopping=True )\n",
    "clf.fit(X_train, Y_train)  \n",
    "print(abs(cross_val_score(clf, X_train, Y_train, cv=3, scoring='neg_mean_squared_error'))) \n",
    "\n",
    "preds = clf.predict(X_test)\n",
    "metrics.mean_squared_error(Y_test, preds)\n",
    "# performance has slightly changed to be better after setting alpha to 0.001"
   ]
  },
  {
   "cell_type": "markdown",
   "metadata": {},
   "source": [
    "###### Investigation Early stopping effect with alpha = 0.01"
   ]
  },
  {
   "cell_type": "code",
   "execution_count": 59,
   "metadata": {},
   "outputs": [
    {
     "name": "stdout",
     "output_type": "stream",
     "text": [
      "[0.05078858 0.02222487 0.01378156]\n"
     ]
    },
    {
     "data": {
      "text/plain": [
       "0.00536185667424043"
      ]
     },
     "execution_count": 59,
     "metadata": {},
     "output_type": "execute_result"
    }
   ],
   "source": [
    "clf = MLPRegressor(alpha=0.01, max_iter=500 , solver='adam', learning_rate_init=0.01, early_stopping=True,\n",
    "                   hidden_layer_sizes=(20) )\n",
    "clf.fit(X_train, Y_train)  \n",
    "print(abs(cross_val_score(clf, X_train, Y_train, cv=3, scoring='neg_mean_squared_error'))) \n",
    "\n",
    "preds = clf.predict(X_test)\n",
    "metrics.mean_squared_error(Y_test, preds)\n",
    "# performance is almost the same after setting alpha to 0.01"
   ]
  },
  {
   "cell_type": "markdown",
   "metadata": {},
   "source": [
    "###### testing our conclusion "
   ]
  },
  {
   "cell_type": "code",
   "execution_count": 69,
   "metadata": {},
   "outputs": [
    {
     "data": {
      "text/plain": [
       "{'alpha': 0.001,\n",
       " 'early_stopping': False,\n",
       " 'learning_rate_init': 0.01,\n",
       " 'solver': 'adam'}"
      ]
     },
     "execution_count": 69,
     "metadata": {},
     "output_type": "execute_result"
    }
   ],
   "source": [
    "param_grid = { 'alpha':[0.01, 0.001, 0.0001], 'learning_rate_init': [ 0.01,  0.001, 0.0001], 'solver' : ['sgd' , 'adam'] , 'early_stopping': [True, False]}\n",
    "\n",
    "gs = GridSearchCV(clf, param_grid=param_grid)\n",
    "gs.fit(X_train, Y_train)\n",
    "gs.best_params_\n",
    "\n",
    "# stopping rate did not have better effect on performance !"
   ]
  },
  {
   "cell_type": "markdown",
   "metadata": {},
   "source": [
    "#### 6. Which optimizer performs better in this task? Why?"
   ]
  },
  {
   "cell_type": "markdown",
   "metadata": {},
   "source": [
    "According to our conclusion which is also supported by the grid search results from the best optimizer,  we found that using Adam at learning rate = 0.01 and alpha = 0.001 and without early stopping results in best performance"
   ]
  },
  {
   "cell_type": "markdown",
   "metadata": {},
   "source": [
    "#### 7. Using the best performing neural network configuration, plot the predicted values for S&P versus the true values in the test set. Your plot should show 200 time points or more."
   ]
  },
  {
   "cell_type": "markdown",
   "metadata": {},
   "source": [
    "###### Best performing neural network configuration sofar:"
   ]
  },
  {
   "cell_type": "code",
   "execution_count": 73,
   "metadata": {},
   "outputs": [
    {
     "name": "stdout",
     "output_type": "stream",
     "text": [
      "[1.18529467e-02 2.03197663e+01 1.01565752e-02]\n"
     ]
    },
    {
     "data": {
      "text/plain": [
       "0.011752377616530722"
      ]
     },
     "execution_count": 73,
     "metadata": {},
     "output_type": "execute_result"
    }
   ],
   "source": [
    "clf = MLPRegressor(alpha=0.001, max_iter=500 , solver='adam', learning_rate_init=0.1, )\n",
    "clf.fit(X_train, Y_train)  \n",
    "print(abs(cross_val_score(clf, X_train, Y_train, cv=3, scoring='neg_mean_squared_error'))) \n",
    "\n",
    "preds = clf.predict(X_test)\n",
    "metrics.mean_squared_error(Y_test, preds)\n"
   ]
  },
  {
   "cell_type": "markdown",
   "metadata": {},
   "source": [
    "###### un-normalized predictions for plotting"
   ]
  },
  {
   "cell_type": "code",
   "execution_count": 11,
   "metadata": {},
   "outputs": [],
   "source": [
    "un_norm_preds = preds * y_std + y_mean"
   ]
  },
  {
   "cell_type": "code",
   "execution_count": 21,
   "metadata": {},
   "outputs": [
    {
     "data": {
      "image/png": "[encoded data removed]",
      "text/plain": [
       "<Figure size 432x288 with 1 Axes>"
      ]
     },
     "metadata": {
      "needs_background": "light"
     },
     "output_type": "display_data"
    }
   ],
   "source": [
    "fig = plt.figure()\n",
    "ax = fig.add_axes([0.2,0.2,1,1])\n",
    "ax.set_xlabel('Time')\n",
    "ax.set_ylabel('S&P Index')\n",
    "ax.set_title('S&P Predicted values vs S&P true values')\n",
    "ax.plot(np.arange(200), un_norm_y_test[:200], c='b', label='Test Set')\n",
    "ax.plot(np.arange(200), un_norm_preds[:200] , c='r', label='Prediction Set')\n",
    "\n",
    "ax.legend(loc='best')\n",
    "\n",
    "plt.show()"
   ]
  },
  {
   "cell_type": "markdown",
   "metadata": {},
   "source": [
    "#### 8. Comment on the points where the prediction and true values mismatch most. Why you think these particular points were difficult to predict?"
   ]
  },
  {
   "cell_type": "markdown",
   "metadata": {},
   "source": [
    "prices of stocks originally having low prices are over estimated by the nueral netwrok and the reason might be that our network detected a ceratin rate by which stock prices are increasing however, this rate was decrasing with stocks of low prices."
   ]
  },
  {
   "cell_type": "markdown",
   "metadata": {},
   "source": [
    "# Task 2"
   ]
  },
  {
   "cell_type": "markdown",
   "metadata": {},
   "source": [
    "##### finding the company with highest correlation to SP500"
   ]
  },
  {
   "cell_type": "code",
   "execution_count": 5,
   "metadata": {},
   "outputs": [
    {
     "name": "stdout",
     "output_type": "stream",
     "text": [
      "0.9883608178608217\n",
      "0.9883608178608217\n"
     ]
    }
   ],
   "source": [
    "corr = df.corr()['SP500']\n",
    "print(corr[1:].max())\n",
    "print(corr['APH'])"
   ]
  },
  {
   "cell_type": "markdown",
   "metadata": {},
   "source": [
    "##### creae a new data frame of the mentioned format (using for loop)"
   ]
  },
  {
   "cell_type": "code",
   "execution_count": 7,
   "metadata": {},
   "outputs": [
    {
     "data": {
      "text/html": [
       "<div>\n",
       "<style scoped>\n",
       "    .dataframe tbody tr th:only-of-type {\n",
       "        vertical-align: middle;\n",
       "    }\n",
       "\n",
       "    .dataframe tbody tr th {\n",
       "        vertical-align: top;\n",
       "    }\n",
       "\n",
       "    .dataframe thead th {\n",
       "        text-align: right;\n",
       "    }\n",
       "</style>\n",
       "<table border=\"1\" class=\"dataframe\">\n",
       "  <thead>\n",
       "    <tr style=\"text-align: right;\">\n",
       "      <th></th>\n",
       "      <th>t-4</th>\n",
       "      <th>t-3</th>\n",
       "      <th>t-2</th>\n",
       "      <th>t-1</th>\n",
       "      <th>t</th>\n",
       "      <th>t+1</th>\n",
       "      <th>t+2</th>\n",
       "      <th>t+3</th>\n",
       "      <th>t+4</th>\n",
       "    </tr>\n",
       "  </thead>\n",
       "  <tbody>\n",
       "    <tr>\n",
       "      <th>0</th>\n",
       "      <td>36.2702</td>\n",
       "      <td>35.8013</td>\n",
       "      <td>36.2127</td>\n",
       "      <td>36.4472</td>\n",
       "      <td>36.8634</td>\n",
       "      <td>36.8873</td>\n",
       "      <td>37.0548</td>\n",
       "      <td>37.8203</td>\n",
       "      <td>38.8106</td>\n",
       "    </tr>\n",
       "    <tr>\n",
       "      <th>1</th>\n",
       "      <td>35.8013</td>\n",
       "      <td>36.2127</td>\n",
       "      <td>36.4472</td>\n",
       "      <td>36.8634</td>\n",
       "      <td>36.8873</td>\n",
       "      <td>37.0548</td>\n",
       "      <td>37.8203</td>\n",
       "      <td>38.8106</td>\n",
       "      <td>39.3896</td>\n",
       "    </tr>\n",
       "    <tr>\n",
       "      <th>2</th>\n",
       "      <td>36.2127</td>\n",
       "      <td>36.4472</td>\n",
       "      <td>36.8634</td>\n",
       "      <td>36.8873</td>\n",
       "      <td>37.0548</td>\n",
       "      <td>37.8203</td>\n",
       "      <td>38.8106</td>\n",
       "      <td>39.3896</td>\n",
       "      <td>39.3943</td>\n",
       "    </tr>\n",
       "    <tr>\n",
       "      <th>3</th>\n",
       "      <td>36.4472</td>\n",
       "      <td>36.8634</td>\n",
       "      <td>36.8873</td>\n",
       "      <td>37.0548</td>\n",
       "      <td>37.8203</td>\n",
       "      <td>38.8106</td>\n",
       "      <td>39.3896</td>\n",
       "      <td>39.3943</td>\n",
       "      <td>39.2269</td>\n",
       "    </tr>\n",
       "    <tr>\n",
       "      <th>4</th>\n",
       "      <td>36.8634</td>\n",
       "      <td>36.8873</td>\n",
       "      <td>37.0548</td>\n",
       "      <td>37.8203</td>\n",
       "      <td>38.8106</td>\n",
       "      <td>39.3896</td>\n",
       "      <td>39.3943</td>\n",
       "      <td>39.2269</td>\n",
       "      <td>39.0212</td>\n",
       "    </tr>\n",
       "  </tbody>\n",
       "</table>\n",
       "</div>"
      ],
      "text/plain": [
       "       t-4      t-3      t-2      t-1        t      t+1      t+2      t+3  \\\n",
       "0  36.2702  35.8013  36.2127  36.4472  36.8634  36.8873  37.0548  37.8203   \n",
       "1  35.8013  36.2127  36.4472  36.8634  36.8873  37.0548  37.8203  38.8106   \n",
       "2  36.2127  36.4472  36.8634  36.8873  37.0548  37.8203  38.8106  39.3896   \n",
       "3  36.4472  36.8634  36.8873  37.0548  37.8203  38.8106  39.3896  39.3943   \n",
       "4  36.8634  36.8873  37.0548  37.8203  38.8106  39.3896  39.3943  39.2269   \n",
       "\n",
       "       t+4  \n",
       "0  38.8106  \n",
       "1  39.3896  \n",
       "2  39.3943  \n",
       "3  39.2269  \n",
       "4  39.0212  "
      ]
     },
     "execution_count": 7,
     "metadata": {},
     "output_type": "execute_result"
    }
   ],
   "source": [
    "df = pd.read_csv('sp500.csv',index_col=0)\n",
    "stock = df['APH']\n",
    "new_df = pd.DataFrame(columns=['t-4','t-3','t-2','t-1','t','t+1','t+2','t+3','t+4'])\n",
    "count = 0\n",
    "\n",
    "for i in range(stock.shape[0]-8):\n",
    "    x = np.array(stock[count:count+5])\n",
    "    y = np.array(stock[count+5:count+9])\n",
    "    z = np.append(x,y)\n",
    "    new_df.loc[i] = z\n",
    "    count += 1\n",
    "        \n",
    "new_df.head()"
   ]
  },
  {
   "cell_type": "markdown",
   "metadata": {},
   "source": [
    "###### creae a new data frame of the mentioned format (using pandas shift)"
   ]
  },
  {
   "cell_type": "code",
   "execution_count": 31,
   "metadata": {},
   "outputs": [
    {
     "data": {
      "text/html": [
       "<div>\n",
       "<style scoped>\n",
       "    .dataframe tbody tr th:only-of-type {\n",
       "        vertical-align: middle;\n",
       "    }\n",
       "\n",
       "    .dataframe tbody tr th {\n",
       "        vertical-align: top;\n",
       "    }\n",
       "\n",
       "    .dataframe thead th {\n",
       "        text-align: right;\n",
       "    }\n",
       "</style>\n",
       "<table border=\"1\" class=\"dataframe\">\n",
       "  <thead>\n",
       "    <tr style=\"text-align: right;\">\n",
       "      <th></th>\n",
       "      <th>t-4</th>\n",
       "      <th>t-3</th>\n",
       "      <th>t-2</th>\n",
       "      <th>t-1</th>\n",
       "      <th>t</th>\n",
       "      <th>t+1</th>\n",
       "      <th>t+2</th>\n",
       "      <th>t+3</th>\n",
       "      <th>t+4</th>\n",
       "    </tr>\n",
       "  </thead>\n",
       "  <tbody>\n",
       "    <tr>\n",
       "      <th>4</th>\n",
       "      <td>36.2702</td>\n",
       "      <td>35.8013</td>\n",
       "      <td>36.2127</td>\n",
       "      <td>36.4472</td>\n",
       "      <td>36.8634</td>\n",
       "      <td>36.8873</td>\n",
       "      <td>37.0548</td>\n",
       "      <td>37.8203</td>\n",
       "      <td>38.8106</td>\n",
       "    </tr>\n",
       "    <tr>\n",
       "      <th>5</th>\n",
       "      <td>35.8013</td>\n",
       "      <td>36.2127</td>\n",
       "      <td>36.4472</td>\n",
       "      <td>36.8634</td>\n",
       "      <td>36.8873</td>\n",
       "      <td>37.0548</td>\n",
       "      <td>37.8203</td>\n",
       "      <td>38.8106</td>\n",
       "      <td>39.3896</td>\n",
       "    </tr>\n",
       "    <tr>\n",
       "      <th>6</th>\n",
       "      <td>36.2127</td>\n",
       "      <td>36.4472</td>\n",
       "      <td>36.8634</td>\n",
       "      <td>36.8873</td>\n",
       "      <td>37.0548</td>\n",
       "      <td>37.8203</td>\n",
       "      <td>38.8106</td>\n",
       "      <td>39.3896</td>\n",
       "      <td>39.3943</td>\n",
       "    </tr>\n",
       "    <tr>\n",
       "      <th>7</th>\n",
       "      <td>36.4472</td>\n",
       "      <td>36.8634</td>\n",
       "      <td>36.8873</td>\n",
       "      <td>37.0548</td>\n",
       "      <td>37.8203</td>\n",
       "      <td>38.8106</td>\n",
       "      <td>39.3896</td>\n",
       "      <td>39.3943</td>\n",
       "      <td>39.2269</td>\n",
       "    </tr>\n",
       "    <tr>\n",
       "      <th>8</th>\n",
       "      <td>36.8634</td>\n",
       "      <td>36.8873</td>\n",
       "      <td>37.0548</td>\n",
       "      <td>37.8203</td>\n",
       "      <td>38.8106</td>\n",
       "      <td>39.3896</td>\n",
       "      <td>39.3943</td>\n",
       "      <td>39.2269</td>\n",
       "      <td>39.0212</td>\n",
       "    </tr>\n",
       "  </tbody>\n",
       "</table>\n",
       "</div>"
      ],
      "text/plain": [
       "       t-4      t-3      t-2      t-1        t      t+1      t+2      t+3  \\\n",
       "4  36.2702  35.8013  36.2127  36.4472  36.8634  36.8873  37.0548  37.8203   \n",
       "5  35.8013  36.2127  36.4472  36.8634  36.8873  37.0548  37.8203  38.8106   \n",
       "6  36.2127  36.4472  36.8634  36.8873  37.0548  37.8203  38.8106  39.3896   \n",
       "7  36.4472  36.8634  36.8873  37.0548  37.8203  38.8106  39.3896  39.3943   \n",
       "8  36.8634  36.8873  37.0548  37.8203  38.8106  39.3896  39.3943  39.2269   \n",
       "\n",
       "       t+4  \n",
       "4  38.8106  \n",
       "5  39.3896  \n",
       "6  39.3943  \n",
       "7  39.2269  \n",
       "8  39.0212  "
      ]
     },
     "execution_count": 31,
     "metadata": {},
     "output_type": "execute_result"
    }
   ],
   "source": [
    "t_4 = stock.shift(4)\n",
    "t_3 = stock.shift(3)\n",
    "t_2 = stock.shift(2)\n",
    "t_1 = stock.shift(1)\n",
    "t = stock\n",
    "input_cols = pd.concat([t_4, t_3, t_2, t_1, t], axis=1).dropna()\n",
    "\n",
    "t1 = stock.shift(-1)\n",
    "t2 = stock.shift(-2)\n",
    "t3 = stock.shift(-3)\n",
    "t4 = stock.shift(-4)\n",
    "\n",
    "output_cols = pd.concat([t1, t2, t3, t4], axis=1).dropna()\n",
    "\n",
    "new_df = pd.concat([input_cols,output_cols], axis=1).dropna()\n",
    "new_df.columns = ['t-4','t-3','t-2','t-1','t','t+1','t+2','t+3','t+4']\n",
    "new_df.head()"
   ]
  },
  {
   "cell_type": "markdown",
   "metadata": {},
   "source": [
    "###### Divide the dataset into training, testing sets"
   ]
  },
  {
   "cell_type": "code",
   "execution_count": 7,
   "metadata": {},
   "outputs": [],
   "source": [
    "x = new_df.iloc[:,0:5]\n",
    "y = new_df.iloc[:,5:9]\n",
    "X_train, X_test, Y_train, Y_test = train_test_split(x, y, test_size=0.2, random_state=1)\n"
   ]
  },
  {
   "cell_type": "markdown",
   "metadata": {},
   "source": [
    "#### 1. Indicate the scoring metric suitable for this task."
   ]
  },
  {
   "cell_type": "markdown",
   "metadata": {},
   "source": [
    "r2 scoring metrics is the most suitable for this task because it provides a measure of how well future samples are likely to be predicted by the model. "
   ]
  },
  {
   "cell_type": "code",
   "execution_count": 54,
   "metadata": {},
   "outputs": [
    {
     "data": {
      "text/plain": [
       "0.9885808146125261"
      ]
     },
     "execution_count": 54,
     "metadata": {},
     "output_type": "execute_result"
    }
   ],
   "source": [
    "mlp = MLPRegressor()\n",
    "mlp.fit(X_train, Y_train)  \n",
    "preds = mlp.predict(X_test)\n",
    "metrics.r2_score(Y_test, preds)\n",
    "# r2 best possible score is 1.0"
   ]
  },
  {
   "cell_type": "markdown",
   "metadata": {},
   "source": [
    "#### 2.Indicate the neural network architecture and configuration that achieve the best score. "
   ]
  },
  {
   "cell_type": "code",
   "execution_count": 56,
   "metadata": {},
   "outputs": [
    {
     "name": "stdout",
     "output_type": "stream",
     "text": [
      "[0.86176525 0.91450491 0.92148468]\n"
     ]
    },
    {
     "data": {
      "text/plain": [
       "0.9952092395427429"
      ]
     },
     "execution_count": 56,
     "metadata": {},
     "output_type": "execute_result"
    }
   ],
   "source": [
    "\n",
    "clf = MLPRegressor(solver='adam', learning_rate_init=0.01)\n",
    "clf.fit(X_train, Y_train)  \n",
    "print(abs(cross_val_score(clf, X_train, Y_train, cv=3, scoring='neg_mean_absolute_error'))) \n",
    "\n",
    "preds = clf.predict(X_test)\n",
    "metrics.r2_score(Y_test, preds)\n"
   ]
  },
  {
   "cell_type": "markdown",
   "metadata": {},
   "source": [
    "#### 3. Use the trained neural network to predict stock price for 3 instances from the test set."
   ]
  },
  {
   "cell_type": "code",
   "execution_count": 46,
   "metadata": {
    "scrolled": true
   },
   "outputs": [
    {
     "name": "stdout",
     "output_type": "stream",
     "text": [
      "[[55.2159 55.3611 55.8063 56.0192]\n",
      " [68.2958 68.3745 68.4926 68.7289]\n",
      " [90.5851 87.7391 84.913  86.6644]]\n",
      "\n",
      "[[55.41123835 55.8406205  55.67056366 55.76005036]\n",
      " [67.20534997 67.72181333 67.56140936 67.67226096]\n",
      " [90.35642674 91.19852303 90.78789413 90.8301745 ]]\n"
     ]
    }
   ],
   "source": [
    "inst_y_test = np.array(Y_test[:3])\n",
    "print(y_test)\n",
    "print()\n",
    "inst_preds = preds[:3]\n",
    "print (inst_preds.reshape(3,4))"
   ]
  },
  {
   "cell_type": "markdown",
   "metadata": {},
   "source": [
    "#### Display the output value versus the predicted value and justify the similarities and differences in values."
   ]
  },
  {
   "cell_type": "code",
   "execution_count": 50,
   "metadata": {},
   "outputs": [
    {
     "data": {
      "image/png": "[encoded data removed]",
      "text/plain": [
       "<Figure size 432x288 with 1 Axes>"
      ]
     },
     "metadata": {
      "needs_background": "light"
     },
     "output_type": "display_data"
    }
   ],
   "source": [
    "fig = plt.figure()\n",
    "ax = fig.add_axes([0.2,0.2,1,1])\n",
    "ax.set_xlabel('Time')\n",
    "ax.set_ylabel('APH Stock Price')\n",
    "ax.set_title('APH company Predicted stock prices vs true prices')\n",
    "ax.plot(np.arange(12), inst_y_test.flatten() , c='b', label='Test Set')\n",
    "ax.plot(np.arange(12), inst_preds.flatten() , c='r', label='Prediction Set')\n",
    "\n",
    "ax.legend(loc='best')\n",
    "\n",
    "plt.show()"
   ]
  },
  {
   "cell_type": "code",
   "execution_count": null,
   "metadata": {},
   "outputs": [],
   "source": [
    "# output\n",
    "# 55.2159  55.3611  55.8063  56.0192\n",
    "# 68.2958  68.3745  68.4926  68.7289\n",
    "# 90.5851  87.7391  84.9130  86.6644\n",
    "\n",
    "# predections\n",
    "#  '55.58' '55.90' '55.81' '56.11'\n",
    "#  '67.64' '67.80' '67.73' '68.13'\n",
    "#  '91.07' '91.35' '91.20' '91.86'\n",
    "\n",
    "#  5 stock prices out of 12 are accuratly predectied \n",
    "#  4 stock prices out of 12 we over estomated by almost 1$\n",
    "#  while the other 3 prices where over estimated by a range of 4-5 $ \n",
    "#  but the overall prediction is considered precised and very close to the true values\n"
   ]
  }
 ],
 "metadata": {
  "kernelspec": {
   "display_name": "Python 3",
   "language": "python",
   "name": "python3"
  },
  "language_info": {
   "codemirror_mode": {
    "name": "ipython",
    "version": 3
   },
   "file_extension": ".py",
   "mimetype": "text/x-python",
   "name": "python",
   "nbconvert_exporter": "python",
   "pygments_lexer": "ipython3",
   "version": "3.7.0"
  }
 },
 "nbformat": 4,
 "nbformat_minor": 2
}
