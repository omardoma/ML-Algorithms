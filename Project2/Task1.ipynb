{
  "nbformat": 4,
  "nbformat_minor": 0,
  "metadata": {
    "colab": {
      "name": "Task1.ipynb",
      "version": "0.3.2",
      "provenance": [],
      "collapsed_sections": [],
      "toc_visible": true
    },
    "kernelspec": {
      "name": "python3",
      "display_name": "Python 3"
    }
  },
  "cells": [
    {
      "metadata": {
        "id": "PpmVOGm4dL-6",
        "colab_type": "text"
      },
      "cell_type": "markdown",
      "source": [
        "# **Task 1**"
      ]
    },
    {
      "metadata": {
        "id": "gUkue71qdJVY",
        "colab_type": "code",
        "colab": {}
      },
      "cell_type": "code",
      "source": [
        "from __future__ import print_function\n",
        "\n",
        "from time import time\n",
        "import logging\n",
        "import matplotlib.pyplot as plt\n",
        "\n",
        "from sklearn.model_selection import train_test_split\n",
        "from sklearn.model_selection import GridSearchCV\n",
        "from sklearn.datasets import fetch_lfw_people\n",
        "from sklearn.metrics import classification_report\n",
        "from sklearn.metrics import confusion_matrix\n",
        "from sklearn.decomposition import PCA\n",
        "from sklearn.svm import SVC\n",
        "from sklearn import preprocessing\n",
        "import numpy as np\n",
        "import tarfile\n",
        "import os"
      ],
      "execution_count": 0,
      "outputs": []
    },
    {
      "metadata": {
        "id": "KHbFAxJnomjr",
        "colab_type": "code",
        "outputId": "cfd09c8f-e1fc-4412-f556-ef4105b51f4e",
        "colab": {
          "base_uri": "https://localhost:8080/",
          "height": 34
        }
      },
      "cell_type": "code",
      "source": [
        "print(__doc__)\n",
        "# Display progress logs on stdout\n",
        "logging.basicConfig(level=logging.INFO, format='%(asctime)s %(message)s')"
      ],
      "execution_count": 0,
      "outputs": [
        {
          "output_type": "stream",
          "text": [
            "Automatically created module for IPython interactive environment\n"
          ],
          "name": "stdout"
        }
      ]
    },
    {
      "metadata": {
        "id": "ZAhY5XDbqZK2",
        "colab_type": "code",
        "outputId": "104f2eb2-e7a7-4d5f-c85d-ad138d3e5a22",
        "colab": {
          "base_uri": "https://localhost:8080/",
          "height": 85
        }
      },
      "cell_type": "code",
      "source": [
        "lfw_people = fetch_lfw_people(min_faces_per_person=70, resize=0.4)\n",
        "\n",
        "# introspect the images arrays to find the shapes (for plotting)\n",
        "n_samples, h, w = lfw_people.images.shape\n",
        "\n",
        "# for machine learning we use the 2 data directly (as relative pixel\n",
        "# positions info is ignored by this model)\n",
        "X = lfw_people.data\n",
        "n_features = X.shape[1]\n",
        "\n",
        "# the label to predict is the id of the person\n",
        "y = lfw_people.target\n",
        "target_names = lfw_people.target_names\n",
        "n_classes = target_names.shape[0]\n",
        "\n",
        "print(\"Total dataset size:\")\n",
        "print(\"n_samples: %d\" % n_samples)\n",
        "print(\"n_features: %d\" % n_features)\n",
        "print(\"n_classes: %d\" % n_classes)"
      ],
      "execution_count": 0,
      "outputs": [
        {
          "output_type": "stream",
          "text": [
            "Total dataset size:\n",
            "n_samples: 1288\n",
            "n_features: 1850\n",
            "n_classes: 7\n"
          ],
          "name": "stdout"
        }
      ]
    },
    {
      "metadata": {
        "id": "aWx34rH0sAmE",
        "colab_type": "code",
        "colab": {}
      },
      "cell_type": "code",
      "source": [
        "# split into a training and testing set\n",
        "X_train, X_test, y_train, y_test = train_test_split(\n",
        "    X, y, test_size=0.25, random_state=42)"
      ],
      "execution_count": 0,
      "outputs": []
    },
    {
      "metadata": {
        "id": "Fprhw4Kl3xfy",
        "colab_type": "code",
        "outputId": "a18d18db-39e1-4b2a-fc07-99d26d57fcab",
        "colab": {
          "base_uri": "https://localhost:8080/",
          "height": 85
        }
      },
      "cell_type": "code",
      "source": [
        "# Compute a PCA (eigenfaces) on the face dataset (treated as unlabeled\n",
        "# dataset): unsupervised feature extraction / dimensionality reduction\n",
        "n_components = 150\n",
        "\n",
        "print(\"Extracting the top %d eigenfaces from %d faces\"\n",
        "      % (n_components, X_train.shape[0]))\n",
        "t0 = time()\n",
        "pca = PCA(n_components=n_components, svd_solver='randomized',\n",
        "          whiten=True).fit(X_train)\n",
        "print(\"done in %0.3fs\" % (time() - t0))\n",
        "\n",
        "eigenfaces_150 = pca.components_.reshape((n_components, h, w))\n",
        "\n",
        "print(\"Projecting the input data on the eigenfaces orthonormal basis\")\n",
        "t0 = time()\n",
        "X_train_pca_150 = pca.transform(X_train)\n",
        "X_test_pca_150 = pca.transform(X_test)\n",
        "print(\"done in %0.3fs\" % (time() - t0))"
      ],
      "execution_count": 0,
      "outputs": [
        {
          "output_type": "stream",
          "text": [
            "Extracting the top 150 eigenfaces from 966 faces\n",
            "done in 0.508s\n",
            "Projecting the input data on the eigenfaces orthonormal basis\n",
            "done in 0.035s\n"
          ],
          "name": "stdout"
        }
      ]
    },
    {
      "metadata": {
        "id": "QLowpkvHoTNQ",
        "colab_type": "text"
      },
      "cell_type": "markdown",
      "source": [
        "**1. Change the parameter grid for ‘C’ to include the values (1, 10, 100, 1e3).**"
      ]
    },
    {
      "metadata": {
        "id": "_cxLG6hk4SD-",
        "colab_type": "code",
        "outputId": "50930e53-505d-482e-b40c-5a1bc0e1bf13",
        "colab": {
          "base_uri": "https://localhost:8080/",
          "height": 136
        }
      },
      "cell_type": "code",
      "source": [
        "# Train a SVM classification model\n",
        "\n",
        "print(\"Fitting the classifier to the training set\")\n",
        "t0 = time()\n",
        "param_grid = {'C': [1, 10, 100, 1e3, 5e3, 1e4, 5e4, 1e5],\n",
        "              'gamma': [0.0001, 0.0005, 0.001, 0.005, 0.01, 0.1], }\n",
        "clf = GridSearchCV(SVC(kernel='rbf', class_weight='balanced'),\n",
        "                   param_grid, cv=5)\n",
        "clf = clf.fit(X_train_pca_150, y_train)\n",
        "print(\"done in %0.3fs\" % (time() - t0))\n",
        "print(\"Best estimator found by grid search:\")\n",
        "print(clf.best_estimator_)"
      ],
      "execution_count": 0,
      "outputs": [
        {
          "output_type": "stream",
          "text": [
            "Fitting the classifier to the training set\n",
            "done in 112.704s\n",
            "Best estimator found by grid search:\n",
            "SVC(C=10, cache_size=200, class_weight='balanced', coef0=0.0,\n",
            "  decision_function_shape='ovr', degree=3, gamma=0.0005, kernel='rbf',\n",
            "  max_iter=-1, probability=False, random_state=None, shrinking=True,\n",
            "  tol=0.001, verbose=False)\n"
          ],
          "name": "stdout"
        }
      ]
    },
    {
      "metadata": {
        "id": "dyR5PwHhM0--",
        "colab_type": "code",
        "outputId": "a719eab0-71e9-45df-8079-bd5196c107b6",
        "colab": {
          "base_uri": "https://localhost:8080/",
          "height": 391
        }
      },
      "cell_type": "code",
      "source": [
        "# Quantitative evaluation of the model quality on the test set using 150 principal components\n",
        "\n",
        "print(\"Predicting people's names on the test set\")\n",
        "t0 = time()\n",
        "y_pred = clf.predict(X_test_pca_150)\n",
        "print(\"done in %0.3fs\" % (time() - t0))\n",
        "\n",
        "print(classification_report(y_test, y_pred, target_names=target_names))\n",
        "print(confusion_matrix(y_test, y_pred, labels=range(n_classes)))\n",
        "print('accuracy_score: ', clf.score(X_test_pca_150, y_test))"
      ],
      "execution_count": 0,
      "outputs": [
        {
          "output_type": "stream",
          "text": [
            "Predicting people's names on the test set\n",
            "done in 0.078s\n",
            "                   precision    recall  f1-score   support\n",
            "\n",
            "     Ariel Sharon       0.53      0.69      0.60        13\n",
            "     Colin Powell       0.80      0.85      0.82        60\n",
            "  Donald Rumsfeld       0.69      0.74      0.71        27\n",
            "    George W Bush       0.93      0.86      0.90       146\n",
            "Gerhard Schroeder       0.61      0.80      0.69        25\n",
            "      Hugo Chavez       0.73      0.53      0.62        15\n",
            "       Tony Blair       0.82      0.75      0.78        36\n",
            "\n",
            "      avg / total       0.82      0.81      0.81       322\n",
            "\n",
            "[[  9   0   3   1   0   0   0]\n",
            " [  3  51   1   3   0   1   1]\n",
            " [  5   0  20   1   0   0   1]\n",
            " [  0   7   4 126   6   1   2]\n",
            " [  0   2   0   1  20   1   1]\n",
            " [  0   2   0   1   3   8   1]\n",
            " [  0   2   1   2   4   0  27]]\n",
            "accuracy_score:  0.8105590062111802\n"
          ],
          "name": "stdout"
        }
      ]
    },
    {
      "metadata": {
        "id": "HWrGYWRG9yu0",
        "colab_type": "text"
      },
      "cell_type": "markdown",
      "source": [
        "**2. Now, disable PCA. That is, feed the images from lfw_people directly to the SVM, without applying PCA. Note that you now need to standardize the data.**"
      ]
    },
    {
      "metadata": {
        "id": "ABPeB3yo9ERU",
        "colab_type": "code",
        "colab": {}
      },
      "cell_type": "code",
      "source": [
        "# standardize the data\n",
        "scaler = preprocessing.StandardScaler().fit(X)\n",
        "X_scaled = scaler.transform(X)"
      ],
      "execution_count": 0,
      "outputs": []
    },
    {
      "metadata": {
        "id": "8xTiwPsN-aqP",
        "colab_type": "code",
        "colab": {}
      },
      "cell_type": "code",
      "source": [
        "# split the standardized data into a training and testing set\n",
        "X_train_scaled, X_test_scaled, y_train, y_test = train_test_split(\n",
        "    X_scaled, y, test_size=0.25, random_state=42)"
      ],
      "execution_count": 0,
      "outputs": []
    },
    {
      "metadata": {
        "id": "4KoLGJg9_ZBv",
        "colab_type": "code",
        "outputId": "cc6ab6cd-2ac5-4dca-8500-70fe043f4699",
        "colab": {
          "base_uri": "https://localhost:8080/",
          "height": 136
        }
      },
      "cell_type": "code",
      "source": [
        "# Train a SVM classification model without using PCA\n",
        "print(\"Fitting the classifier to the training set\")\n",
        "t0 = time()\n",
        "param_grid = {'C': [1, 10, 100, 1e3, 5e3, 1e4],\n",
        "              'gamma': [0.0001, 0.0005, 0.001, 0.005, 0.01, 0.1], }\n",
        "clf = GridSearchCV(SVC(kernel='rbf', class_weight='balanced'),\n",
        "                   param_grid, cv=5)\n",
        "clf = clf.fit(X_train_scaled, y_train)\n",
        "print(\"done in %0.3fs\" % (time() - t0))\n",
        "print(\"Best estimator found by grid search:\")\n",
        "print(clf.best_estimator_)"
      ],
      "execution_count": 0,
      "outputs": [
        {
          "output_type": "stream",
          "text": [
            "Fitting the classifier to the training set\n",
            "done in 1001.882s\n",
            "Best estimator found by grid search:\n",
            "SVC(C=100, cache_size=200, class_weight='balanced', coef0=0.0,\n",
            "  decision_function_shape='ovr', degree=3, gamma=0.0001, kernel='rbf',\n",
            "  max_iter=-1, probability=False, random_state=None, shrinking=True,\n",
            "  tol=0.001, verbose=False)\n"
          ],
          "name": "stdout"
        }
      ]
    },
    {
      "metadata": {
        "id": "vssKNXRHuqHz",
        "colab_type": "text"
      },
      "cell_type": "markdown",
      "source": [
        "With PCA:  the classifier had the best performance when C was equal to 10. Thus, the best value of C is 10, which is small enough to better tolerate misclassified points.\n"
      ]
    },
    {
      "metadata": {
        "id": "v9Encog7vhmC",
        "colab_type": "text"
      },
      "cell_type": "markdown",
      "source": [
        "Without PCA: the classifier had the best performance when C was equal to 100. "
      ]
    },
    {
      "metadata": {
        "id": "4OD62vgwNFDp",
        "colab_type": "code",
        "outputId": "bf6e13b1-c1b6-4b25-9cc7-a9af057d11d1",
        "colab": {
          "base_uri": "https://localhost:8080/",
          "height": 391
        }
      },
      "cell_type": "code",
      "source": [
        "# Quantitative evaluation of the model quality on the test set without PCA\n",
        "\n",
        "print(\"Predicting people's names on the test set\")\n",
        "t0 = time()\n",
        "y_pred = clf.predict(X_test_scaled)\n",
        "print(\"done in %0.3fs\" % (time() - t0))\n",
        "\n",
        "print(classification_report(y_test, y_pred, target_names=target_names))\n",
        "print(confusion_matrix(y_test, y_pred, labels=range(n_classes)))\n",
        "print('accuracy_score: ' ,clf.score(X_test_scaled, y_test))"
      ],
      "execution_count": 0,
      "outputs": [
        {
          "output_type": "stream",
          "text": [
            "Predicting people's names on the test set\n",
            "done in 0.744s\n",
            "                   precision    recall  f1-score   support\n",
            "\n",
            "     Ariel Sharon       0.50      0.69      0.58        13\n",
            "     Colin Powell       0.79      0.92      0.85        60\n",
            "  Donald Rumsfeld       0.78      0.67      0.72        27\n",
            "    George W Bush       0.93      0.92      0.93       146\n",
            "Gerhard Schroeder       0.80      0.80      0.80        25\n",
            "      Hugo Chavez       0.91      0.67      0.77        15\n",
            "       Tony Blair       0.90      0.75      0.82        36\n",
            "\n",
            "      avg / total       0.86      0.85      0.85       322\n",
            "\n",
            "[[  9   1   3   0   0   0   0]\n",
            " [  2  55   0   2   0   1   0]\n",
            " [  4   1  18   3   0   0   1]\n",
            " [  2   6   1 135   2   0   0]\n",
            " [  0   1   0   2  20   0   2]\n",
            " [  0   3   0   1   1  10   0]\n",
            " [  1   3   1   2   2   0  27]]\n",
            "accuracy_score:  0.8509316770186336\n"
          ],
          "name": "stdout"
        }
      ]
    },
    {
      "metadata": {
        "id": "QbLDzKsFK3Yn",
        "colab_type": "text"
      },
      "cell_type": "markdown",
      "source": [
        "The best Classifier performance is the one used without PCA,. because it has better values of precesion, recall and test score.\n",
        "Test score with PCA: 0.8105590062111802 \n",
        "Test score withput PCA : 0.8509316770186336"
      ]
    },
    {
      "metadata": {
        "id": "eYgnufi_LnKp",
        "colab_type": "text"
      },
      "cell_type": "markdown",
      "source": [
        "**3. Now, go back to using PCA. Vary the number of principal components you use as an input to the classifier [50, 150, 190, 300, 1000]. Plot the number of principal components on the x-axis, and the performance and the corresponding C values found by grid search on the Y-axis.**"
      ]
    },
    {
      "metadata": {
        "id": "by3REeMeLoZw",
        "colab_type": "code",
        "outputId": "3b1d46ad-93dd-429f-af56-dde1c5c1636e",
        "colab": {
          "base_uri": "https://localhost:8080/",
          "height": 136
        }
      },
      "cell_type": "code",
      "source": [
        "# Train the SVM Using 50 principal components\n",
        "n_components = 50\n",
        "pca = PCA(n_components=n_components, svd_solver='randomized',\n",
        "          whiten=True).fit(X_train)\n",
        "eigenfaces_50 = pca.components_.reshape((n_components, h, w))\n",
        "X_train_pca_50 = pca.transform(X_train)\n",
        "X_test_pca_50 = pca.transform(X_test)\n",
        "\n",
        "print(\"Fitting the classifier to the training set\")\n",
        "t0 = time()\n",
        "param_grid = {'C': [1, 10, 100, 1e3, 5e3, 1e4, 5e4, 1e5],\n",
        "              'gamma': [0.0001, 0.0005, 0.001, 0.005, 0.01, 0.1], }\n",
        "clf = GridSearchCV(SVC(kernel='rbf', class_weight='balanced'),\n",
        "                   param_grid, cv=5)\n",
        "clf = clf.fit(X_train_pca_50, y_train)\n",
        "print(\"done in %0.3fs\" % (time() - t0))\n",
        "print(\"Best estimator found by grid search:\")\n",
        "print(clf.best_estimator_)"
      ],
      "execution_count": 0,
      "outputs": [
        {
          "output_type": "stream",
          "text": [
            "Fitting the classifier to the training set\n",
            "done in 38.320s\n",
            "Best estimator found by grid search:\n",
            "SVC(C=10, cache_size=200, class_weight='balanced', coef0=0.0,\n",
            "  decision_function_shape='ovr', degree=3, gamma=0.01, kernel='rbf',\n",
            "  max_iter=-1, probability=False, random_state=None, shrinking=True,\n",
            "  tol=0.001, verbose=False)\n"
          ],
          "name": "stdout"
        }
      ]
    },
    {
      "metadata": {
        "id": "5DIs6J7uMr2Y",
        "colab_type": "code",
        "outputId": "ba042cc7-2333-4d6e-8958-6dcb5fee5931",
        "colab": {
          "base_uri": "https://localhost:8080/",
          "height": 391
        }
      },
      "cell_type": "code",
      "source": [
        "# Quantitative evaluation of the model quality on the test set using 50 principal components\n",
        "\n",
        "print(\"Predicting people's names on the test set\")\n",
        "t0 = time()\n",
        "y_pred = clf.predict(X_test_pca_50)\n",
        "print(\"done in %0.3fs\" % (time() - t0))\n",
        "\n",
        "print(classification_report(y_test, y_pred, target_names=target_names))\n",
        "print(confusion_matrix(y_test, y_pred, labels=range(n_classes)))\n",
        "print('accuracy_score: ' ,clf.score(X_test_pca_50, y_test))"
      ],
      "execution_count": 0,
      "outputs": [
        {
          "output_type": "stream",
          "text": [
            "Predicting people's names on the test set\n",
            "done in 0.033s\n",
            "                   precision    recall  f1-score   support\n",
            "\n",
            "     Ariel Sharon       0.62      0.77      0.69        13\n",
            "     Colin Powell       0.83      0.92      0.87        60\n",
            "  Donald Rumsfeld       0.62      0.56      0.59        27\n",
            "    George W Bush       0.88      0.91      0.89       146\n",
            "Gerhard Schroeder       0.70      0.64      0.67        25\n",
            "      Hugo Chavez       0.75      0.60      0.67        15\n",
            "       Tony Blair       0.83      0.67      0.74        36\n",
            "\n",
            "      avg / total       0.81      0.81      0.81       322\n",
            "\n",
            "[[ 10   1   1   1   0   0   0]\n",
            " [  0  55   1   3   1   0   0]\n",
            " [  4   3  15   4   1   0   0]\n",
            " [  0   3   4 133   1   2   3]\n",
            " [  0   0   2   5  16   1   1]\n",
            " [  0   2   0   2   1   9   1]\n",
            " [  2   2   1   4   3   0  24]]\n",
            "accuracy_score:  0.8136645962732919\n"
          ],
          "name": "stdout"
        }
      ]
    },
    {
      "metadata": {
        "id": "Y8oNQo1KdOK5",
        "colab_type": "code",
        "outputId": "37f84353-7bea-4f67-db35-de8a522516f1",
        "colab": {
          "base_uri": "https://localhost:8080/",
          "height": 136
        }
      },
      "cell_type": "code",
      "source": [
        "# Train the SVM Using 190 principal components\n",
        "n_components = 190\n",
        "pca = PCA(n_components=n_components, svd_solver='randomized',\n",
        "          whiten=True).fit(X_train)\n",
        "eigenfaces_190 = pca.components_.reshape((n_components, h, w))\n",
        "X_train_pca_190 = pca.transform(X_train)\n",
        "X_test_pca_190 = pca.transform(X_test)\n",
        "\n",
        "print(\"Fitting the classifier to the training set\")\n",
        "t0 = time()\n",
        "param_grid = {'C': [1, 10, 100, 1e3, 5e3, 1e4, 5e4, 1e5],\n",
        "              'gamma': [0.0001, 0.0005, 0.001, 0.005, 0.01, 0.1], }\n",
        "clf = GridSearchCV(SVC(kernel='rbf', class_weight='balanced'),\n",
        "                   param_grid, cv=5)\n",
        "clf = clf.fit(X_train_pca_190, y_train)\n",
        "print(\"done in %0.3fs\" % (time() - t0))\n",
        "print(\"Best estimator found by grid search:\")\n",
        "print(clf.best_estimator_)"
      ],
      "execution_count": 0,
      "outputs": [
        {
          "output_type": "stream",
          "text": [
            "Fitting the classifier to the training set\n",
            "done in 113.888s\n",
            "Best estimator found by grid search:\n",
            "SVC(C=10, cache_size=200, class_weight='balanced', coef0=0.0,\n",
            "  decision_function_shape='ovr', degree=3, gamma=0.001, kernel='rbf',\n",
            "  max_iter=-1, probability=False, random_state=None, shrinking=True,\n",
            "  tol=0.001, verbose=False)\n"
          ],
          "name": "stdout"
        }
      ]
    },
    {
      "metadata": {
        "id": "O_nYo3hpd__F",
        "colab_type": "code",
        "outputId": "f78c5e4f-036e-411f-ca0c-04a1c02cd633",
        "colab": {
          "base_uri": "https://localhost:8080/",
          "height": 391
        }
      },
      "cell_type": "code",
      "source": [
        "# Quantitative evaluation of the model quality on the test set 190 principal components\n",
        "\n",
        "print(\"Predicting people's names on the test set\")\n",
        "t0 = time()\n",
        "y_pred = clf.predict(X_test_pca_190)\n",
        "print(\"done in %0.3fs\" % (time() - t0))\n",
        "\n",
        "print(classification_report(y_test, y_pred, target_names=target_names))\n",
        "print(confusion_matrix(y_test, y_pred, labels=range(n_classes)))\n",
        "print('accuracy_score: ' ,clf.score(X_test_pca_190, y_test))"
      ],
      "execution_count": 0,
      "outputs": [
        {
          "output_type": "stream",
          "text": [
            "Predicting people's names on the test set\n",
            "done in 0.098s\n",
            "                   precision    recall  f1-score   support\n",
            "\n",
            "     Ariel Sharon       0.62      0.77      0.69        13\n",
            "     Colin Powell       0.78      0.90      0.84        60\n",
            "  Donald Rumsfeld       0.83      0.74      0.78        27\n",
            "    George W Bush       0.93      0.89      0.91       146\n",
            "Gerhard Schroeder       0.78      0.84      0.81        25\n",
            "      Hugo Chavez       0.70      0.47      0.56        15\n",
            "       Tony Blair       0.83      0.83      0.83        36\n",
            "\n",
            "      avg / total       0.85      0.84      0.84       322\n",
            "\n",
            "[[ 10   1   0   2   0   0   0]\n",
            " [  2  54   0   3   0   1   0]\n",
            " [  3   2  20   1   0   1   0]\n",
            " [  1   7   2 130   2   1   3]\n",
            " [  0   2   0   1  21   0   1]\n",
            " [  0   3   0   1   2   7   2]\n",
            " [  0   0   2   2   2   0  30]]\n",
            "accuracy_score:  0.84472049689441\n"
          ],
          "name": "stdout"
        }
      ]
    },
    {
      "metadata": {
        "id": "d42PIr37emHZ",
        "colab_type": "code",
        "outputId": "955c34cd-2a97-441f-c903-325499800d59",
        "colab": {
          "base_uri": "https://localhost:8080/",
          "height": 136
        }
      },
      "cell_type": "code",
      "source": [
        "# Train the SVM Using 300 principal components\n",
        "n_components = 300\n",
        "pca = PCA(n_components=n_components, svd_solver='randomized',\n",
        "          whiten=True).fit(X_train)\n",
        "eigenfaces_300 = pca.components_.reshape((n_components, h, w))\n",
        "X_train_pca_300 = pca.transform(X_train)\n",
        "X_test_pca_300 = pca.transform(X_test)\n",
        "\n",
        "print(\"Fitting the classifier to the training set\")\n",
        "t0 = time()\n",
        "param_grid = {'C': [1, 10, 100, 1e3, 5e3, 1e4],\n",
        "              'gamma': [0.0001, 0.0005, 0.001, 0.005, 0.01, 0.1], }\n",
        "clf = GridSearchCV(SVC(kernel='rbf', class_weight='balanced'),\n",
        "                   param_grid, cv=5)\n",
        "clf = clf.fit(X_train_pca_300, y_train)\n",
        "print(\"done in %0.3fs\" % (time() - t0))\n",
        "print(\"Best estimator found by grid search:\")\n",
        "print(clf.best_estimator_)"
      ],
      "execution_count": 0,
      "outputs": [
        {
          "output_type": "stream",
          "text": [
            "Fitting the classifier to the training set\n",
            "done in 179.288s\n",
            "Best estimator found by grid search:\n",
            "SVC(C=10, cache_size=200, class_weight='balanced', coef0=0.0,\n",
            "  decision_function_shape='ovr', degree=3, gamma=0.0001, kernel='rbf',\n",
            "  max_iter=-1, probability=False, random_state=None, shrinking=True,\n",
            "  tol=0.001, verbose=False)\n"
          ],
          "name": "stdout"
        }
      ]
    },
    {
      "metadata": {
        "id": "7YGDCtuteJug",
        "colab_type": "code",
        "outputId": "96ba6846-fedc-479a-e78e-62d456c4ed3a",
        "colab": {
          "base_uri": "https://localhost:8080/",
          "height": 391
        }
      },
      "cell_type": "code",
      "source": [
        "# Quantitative evaluation of the model quality on the test set 300 principal components\n",
        "\n",
        "print(\"Predicting people's names on the test set\")\n",
        "t0 = time()\n",
        "y_pred = clf.predict(X_test_pca_300)\n",
        "print(\"done in %0.3fs\" % (time() - t0))\n",
        "\n",
        "print(classification_report(y_test, y_pred, target_names=target_names))\n",
        "print(confusion_matrix(y_test, y_pred, labels=range(n_classes)))\n",
        "print('accuracy_score: ' ,clf.score(X_test_pca_300, y_test))"
      ],
      "execution_count": 0,
      "outputs": [
        {
          "output_type": "stream",
          "text": [
            "Predicting people's names on the test set\n",
            "done in 0.156s\n",
            "                   precision    recall  f1-score   support\n",
            "\n",
            "     Ariel Sharon       0.42      0.62      0.50        13\n",
            "     Colin Powell       0.79      0.87      0.83        60\n",
            "  Donald Rumsfeld       0.68      0.70      0.69        27\n",
            "    George W Bush       0.93      0.79      0.86       146\n",
            "Gerhard Schroeder       0.58      0.72      0.64        25\n",
            "      Hugo Chavez       0.60      0.60      0.60        15\n",
            "       Tony Blair       0.72      0.81      0.76        36\n",
            "\n",
            "      avg / total       0.80      0.78      0.78       322\n",
            "\n",
            "[[  8   1   3   0   1   0   0]\n",
            " [  3  52   2   1   0   2   0]\n",
            " [  3   1  19   0   2   1   1]\n",
            " [  4   7   4 115   7   2   7]\n",
            " [  0   1   0   3  18   1   2]\n",
            " [  0   2   0   1   2   9   1]\n",
            " [  1   2   0   3   1   0  29]]\n",
            "accuracy_score:  0.7763975155279503\n"
          ],
          "name": "stdout"
        }
      ]
    },
    {
      "metadata": {
        "id": "D46g8Mm-gA77",
        "colab_type": "code",
        "outputId": "04364338-686c-46e4-cda5-ae55d5395fa5",
        "colab": {
          "base_uri": "https://localhost:8080/",
          "height": 136
        }
      },
      "cell_type": "code",
      "source": [
        "# Train the SVM Using 700 principal components\n",
        "n_components = 700\n",
        "pca = PCA(n_components=n_components, svd_solver='randomized',\n",
        "          whiten=True).fit(X_train)\n",
        "eigenfaces = pca.components_.reshape((n_components, h, w))\n",
        "X_train_pca_700 = pca.transform(X_train)\n",
        "X_test_pca_700 = pca.transform(X_test)\n",
        "\n",
        "print(\"Fitting the classifier to the training set\")\n",
        "t0 = time()\n",
        "param_grid = {'C': [1, 10, 100, 1e3, 5e3, 1e4],\n",
        "              'gamma': [0.0001, 0.0005, 0.001, 0.005, 0.01, 0.1], }\n",
        "clf = GridSearchCV(SVC(kernel='rbf', class_weight='balanced'),\n",
        "                   param_grid, cv=5)\n",
        "clf = clf.fit(X_train_pca_700, y_train)\n",
        "print(\"done in %0.3fs\" % (time() - t0))\n",
        "print(\"Best estimator found by grid search:\")\n",
        "print(clf.best_estimator_)"
      ],
      "execution_count": 0,
      "outputs": [
        {
          "output_type": "stream",
          "text": [
            "Fitting the classifier to the training set\n",
            "done in 422.675s\n",
            "Best estimator found by grid search:\n",
            "SVC(C=10, cache_size=200, class_weight='balanced', coef0=0.0,\n",
            "  decision_function_shape='ovr', degree=3, gamma=0.0001, kernel='rbf',\n",
            "  max_iter=-1, probability=False, random_state=None, shrinking=True,\n",
            "  tol=0.001, verbose=False)\n"
          ],
          "name": "stdout"
        }
      ]
    },
    {
      "metadata": {
        "id": "PgRWrsl8f8PR",
        "colab_type": "code",
        "outputId": "04fa0933-49d8-49c5-f615-cb99af0bc256",
        "colab": {
          "base_uri": "https://localhost:8080/",
          "height": 391
        }
      },
      "cell_type": "code",
      "source": [
        "# Quantitative evaluation of the model quality on the test set 700 principal components\n",
        "\n",
        "print(\"Predicting people's names on the test set\")\n",
        "t0 = time()\n",
        "y_pred = clf.predict(X_test_pca_700)\n",
        "print(\"done in %0.3fs\" % (time() - t0))\n",
        "\n",
        "print(classification_report(y_test, y_pred, target_names=target_names))\n",
        "print(confusion_matrix(y_test, y_pred, labels=range(n_classes)))\n",
        "print('accuracy_score: ' ,clf.score(X_test_pca_700, y_test))"
      ],
      "execution_count": 0,
      "outputs": [
        {
          "output_type": "stream",
          "text": [
            "Predicting people's names on the test set\n",
            "done in 0.359s\n",
            "                   precision    recall  f1-score   support\n",
            "\n",
            "     Ariel Sharon       0.56      0.77      0.65        13\n",
            "     Colin Powell       0.54      0.83      0.65        60\n",
            "  Donald Rumsfeld       0.39      0.63      0.48        27\n",
            "    George W Bush       0.94      0.64      0.76       146\n",
            "Gerhard Schroeder       0.67      0.48      0.56        25\n",
            "      Hugo Chavez       0.53      0.60      0.56        15\n",
            "       Tony Blair       0.62      0.56      0.59        36\n",
            "\n",
            "      avg / total       0.73      0.66      0.67       322\n",
            "\n",
            "[[10  1  1  0  1  0  0]\n",
            " [ 2 50  3  1  0  2  2]\n",
            " [ 2  6 17  1  0  0  1]\n",
            " [ 3 23 18 94  0  3  5]\n",
            " [ 0  4  2  1 12  3  3]\n",
            " [ 0  2  1  0  2  9  1]\n",
            " [ 1  7  2  3  3  0 20]]\n",
            "accuracy_score:  0.6583850931677019\n"
          ],
          "name": "stdout"
        }
      ]
    },
    {
      "metadata": {
        "id": "f_eedI_sFWEk",
        "colab_type": "text"
      },
      "cell_type": "markdown",
      "source": [
        "** Plot the number of principal components on the x-axis, and the performance and the corresponding C values found by grid search on the Y-axis.**"
      ]
    },
    {
      "metadata": {
        "id": "x0YDIOzKFeRo",
        "colab_type": "code",
        "outputId": "3968d697-4ac5-47fb-9729-f352364054dd",
        "colab": {
          "base_uri": "https://localhost:8080/",
          "height": 378
        }
      },
      "cell_type": "code",
      "source": [
        "x = [50, 150, 190, 300, 700]\n",
        "y = [10, 10, 10, 10, 10]\n",
        "test_scores = [0.8136645962732919, 0.8105590062111802, 0.84472049689441 , 0.7763975155279503, 0.6583850931677019]\n",
        "performance = [i * 100 for i in test_scores]\n",
        "\n",
        "plt.xlabel('Principal Components')\n",
        "plt.ylabel('C values and Performance')\n",
        "plt.scatter(x,y)\n",
        "plt.plot(x, performance)\n",
        "plt.show\n"
      ],
      "execution_count": 0,
      "outputs": [
        {
          "output_type": "execute_result",
          "data": {
            "text/plain": [
              "<function matplotlib.pyplot.show>"
            ]
          },
          "metadata": {
            "tags": []
          },
          "execution_count": 41
        },
        {
          "output_type": "display_data",
          "data": {
            "image/png": "[encoded data removed]",
            "text/plain": [
              "<matplotlib.figure.Figure at 0x7fd9066c1128>"
            ]
          },
          "metadata": {
            "tags": []
          }
        }
      ]
    },
    {
      "metadata": {
        "id": "WAjb4hu3g6wm",
        "colab_type": "text"
      },
      "cell_type": "markdown",
      "source": [
        "**4. Report on the change in performance you observe. What causes the performance to change with respect to the number of principal components in this particular manner?**"
      ]
    },
    {
      "metadata": {
        "id": "PJx-D-Vcg9a_",
        "colab_type": "text"
      },
      "cell_type": "markdown",
      "source": [
        "Increasing the number of principal components might not always enhance performance because, some components are not very important for the classification process and will just cause more hazard of extra uneeded calculations. which was the case when we increased the principal components to 300 and 700. So, the best performance was when we chose avaerage number of principal components, which is 190. Also, very few principal components will not be enough to classify correctly so using a classifier on 50 principal components only didn't achieve good results."
      ]
    },
    {
      "metadata": {
        "id": "JQBibkNZhGRh",
        "colab_type": "text"
      },
      "cell_type": "markdown",
      "source": [
        "**5. Use the best classifier found by the gridsearch above. Save the eigenface plots produced by the last part in the tutorial using the best configurations (best number of principal components and best classifier parameters).**"
      ]
    },
    {
      "metadata": {
        "id": "42lgb8K5jkjx",
        "colab_type": "text"
      },
      "cell_type": "markdown",
      "source": [
        "best number of principal components is 190  and best claasifies parametrs are: SVC(C=10, cache_size=200, class_weight='balanced', coef0=0.0,\n",
        "  decision_function_shape='ovr', degree=3, gamma=0.001, kernel='rbf',\n",
        "  max_iter=-1, probability=False, random_state=None, shrinking=True,\n",
        "  tol=0.001, verbose=False)"
      ]
    },
    {
      "metadata": {
        "id": "pMuJTXfmhHwH",
        "colab_type": "code",
        "colab": {}
      },
      "cell_type": "code",
      "source": [
        "def plot_gallery(images, titles, h, w, n_row=3, n_col=4):\n",
        "    \"\"\"Helper function to plot a gallery of portraits\"\"\"\n",
        "    plt.figure(figsize=(1.8 * n_col, 2.4 * n_row))\n",
        "    plt.subplots_adjust(bottom=0, left=.01, right=.99, top=.90, hspace=.35)\n",
        "    for i in range(n_row * n_col):\n",
        "        plt.subplot(n_row, n_col, i + 1)\n",
        "        plt.imshow(images[i].reshape((h, w)), cmap=plt.cm.gray)\n",
        "        plt.title(titles[i], size=12)\n",
        "        plt.xticks(())\n",
        "        plt.yticks(())"
      ],
      "execution_count": 0,
      "outputs": []
    },
    {
      "metadata": {
        "id": "Q918ALG7kBYK",
        "colab_type": "code",
        "outputId": "b14fef5f-5e4e-4a5e-d277-668d98257bf7",
        "colab": {
          "base_uri": "https://localhost:8080/",
          "height": 526
        }
      },
      "cell_type": "code",
      "source": [
        "# plot the result of the prediction on a portion of the test set\n",
        "def title(y_pred, y_test, target_names, i):\n",
        "    pred_name = target_names[y_pred[i]].rsplit(' ', 1)[-1]\n",
        "    true_name = target_names[y_test[i]].rsplit(' ', 1)[-1]\n",
        "    return 'predicted: %s\\ntrue:      %s' % (pred_name, true_name)\n",
        "\n",
        "prediction_titles = [title(y_pred, y_test, target_names, i)\n",
        "                     for i in range(y_pred.shape[0])]\n",
        "\n",
        "plot_gallery(X_test, prediction_titles, h, w)\n"
      ],
      "execution_count": 0,
      "outputs": [
        {
          "output_type": "display_data",
          "data": {
            "image/png": "[encoded data removed]",
            "text/plain": [
              "<matplotlib.figure.Figure at 0x7fdead126b70>"
            ]
          },
          "metadata": {
            "tags": []
          }
        }
      ]
    },
    {
      "metadata": {
        "id": "4_LVrPztkJyM",
        "colab_type": "code",
        "outputId": "7883a770-6774-4535-9940-cc2feb6c3494",
        "colab": {
          "base_uri": "https://localhost:8080/",
          "height": 512
        }
      },
      "cell_type": "code",
      "source": [
        "# plot the gallery of the most significative eigenfaces\n",
        "\n",
        "eigenface_titles = [\"eigenface %d\" % i for i in range(eigenfaces_190.shape[0])]\n",
        "plot_gallery(eigenfaces_190, eigenface_titles, h, w)\n",
        "\n",
        "plt.show()"
      ],
      "execution_count": 0,
      "outputs": [
        {
          "output_type": "display_data",
          "data": {
            "image/png": "[encoded data removed]",
            "text/plain": [
              "<matplotlib.figure.Figure at 0x7fdead121278>"
            ]
          },
          "metadata": {
            "tags": []
          }
        }
      ]
    },
    {
      "metadata": {
        "id": "tsYCjhlYn08w",
        "colab_type": "text"
      },
      "cell_type": "markdown",
      "source": [
        "**6. Now, change the dataset to the ‘unfunneled’ version. Report the change in performance.**"
      ]
    },
    {
      "metadata": {
        "id": "3-fyGhsVpCgl",
        "colab_type": "code",
        "outputId": "c8767e0e-6817-4f0c-f7ae-706c87d5f821",
        "colab": {
          "base_uri": "https://localhost:8080/",
          "height": 85
        }
      },
      "cell_type": "code",
      "source": [
        "unfunneled_lfw_people = fetch_lfw_people(min_faces_per_person=70, resize=0.4, funneled= False)\n",
        "\n",
        "# introspect the images arrays to find the shapes (for plotting)\n",
        "n_samples, h, w = unfunneled_lfw_people.images.shape\n",
        "\n",
        "# for machine learning we use the 2 data directly (as relative pixel\n",
        "# positions info is ignored by this model)\n",
        "X = unfunneled_lfw_people.data\n",
        "n_features = X.shape[1]\n",
        "\n",
        "# the label to predict is the id of the person\n",
        "y = unfunneled_lfw_people.target\n",
        "target_names = unfunneled_lfw_people.target_names\n",
        "n_classes = target_names.shape[0]\n",
        "\n",
        "print(\"Total dataset size:\")\n",
        "print(\"n_samples: %d\" % n_samples)\n",
        "print(\"n_features: %d\" % n_features)\n",
        "print(\"n_classes: %d\" % n_classes)"
      ],
      "execution_count": 0,
      "outputs": [
        {
          "output_type": "stream",
          "text": [
            "Total dataset size:\n",
            "n_samples: 1288\n",
            "n_features: 1850\n",
            "n_classes: 7\n"
          ],
          "name": "stdout"
        }
      ]
    },
    {
      "metadata": {
        "id": "lr1oEOP1qoqU",
        "colab_type": "code",
        "colab": {}
      },
      "cell_type": "code",
      "source": [
        "# split into a training and testing set\n",
        "X_train_unfunneled, X_test_unfunneled, y_train_unfunneled, y_test_unfunneled= train_test_split(\n",
        "    X, y, test_size=0.25, random_state=42)"
      ],
      "execution_count": 0,
      "outputs": []
    },
    {
      "metadata": {
        "id": "uIlZoWYtqrnb",
        "colab_type": "code",
        "outputId": "2c8ddcb7-f60c-475f-ac3f-30704f08aa47",
        "colab": {
          "base_uri": "https://localhost:8080/",
          "height": 85
        }
      },
      "cell_type": "code",
      "source": [
        "# Compute a PCA (eigenfaces) on the face dataset (treated as unlabeled\n",
        "# dataset): unsupervised feature extraction / dimensionality reduction\n",
        "n_components = 190\n",
        "\n",
        "print(\"Extracting the top %d eigenfaces from %d faces\"\n",
        "      % (n_components, X_train_unfunneled.shape[0]))\n",
        "t0 = time()\n",
        "pca = PCA(n_components=n_components, svd_solver='randomized',\n",
        "          whiten=True).fit(X_train_unfunneled)\n",
        "print(\"done in %0.3fs\" % (time() - t0))\n",
        "\n",
        "eigenfaces_unfunneled = pca.components_.reshape((n_components, h, w))\n",
        "\n",
        "print(\"Projecting the input data on the eigenfaces orthonormal basis\")\n",
        "t0 = time()\n",
        "X_train_pca_unfunneled = pca.transform(X_train_unfunneled)\n",
        "X_test_pca_unfunneled = pca.transform(X_test_unfunneled)\n",
        "print(\"done in %0.3fs\" % (time() - t0))"
      ],
      "execution_count": 0,
      "outputs": [
        {
          "output_type": "stream",
          "text": [
            "Extracting the top 190 eigenfaces from 966 faces\n",
            "done in 0.413s\n",
            "Projecting the input data on the eigenfaces orthonormal basis\n",
            "done in 0.038s\n"
          ],
          "name": "stdout"
        }
      ]
    },
    {
      "metadata": {
        "id": "KBB5Os56q7gA",
        "colab_type": "code",
        "outputId": "c7a01f67-9260-41c9-9a6a-acaeefc4d29b",
        "colab": {
          "base_uri": "https://localhost:8080/",
          "height": 51
        }
      },
      "cell_type": "code",
      "source": [
        "# Train a SVM classification model\n",
        "\n",
        "print(\"Fitting the classifier to the training set\")\n",
        "t0 = time()\n",
        "clf = SVC(C= 10, gamma= 0.001, kernel='rbf', class_weight='balanced')\n",
        "clf = clf.fit(X_train_pca_unfunneled, y_train_unfunneled)\n",
        "print(\"done in %0.3fs\" % (time() - t0))"
      ],
      "execution_count": 0,
      "outputs": [
        {
          "output_type": "stream",
          "text": [
            "Fitting the classifier to the training set\n",
            "done in 0.375s\n"
          ],
          "name": "stdout"
        }
      ]
    },
    {
      "metadata": {
        "id": "JwmT8XuWqaAx",
        "colab_type": "code",
        "outputId": "e880b739-98f7-4861-f552-173f8a32e5cb",
        "colab": {
          "base_uri": "https://localhost:8080/",
          "height": 391
        }
      },
      "cell_type": "code",
      "source": [
        "# Quantitative evaluation of the model quality on the test set using 190 principal components\n",
        "\n",
        "print(\"Predicting people's names on the test set\")\n",
        "t0 = time()\n",
        "y_pred = clf.predict(X_test_pca_unfunneled)\n",
        "print(\"done in %0.3fs\" % (time() - t0))\n",
        "\n",
        "print(classification_report(y_test_unfunneled, y_pred, target_names=target_names))\n",
        "print(confusion_matrix(y_test_unfunneled, y_pred, labels=range(n_classes)))\n",
        "print('accuracy_score: ' ,clf.score(X_test_pca_unfunneled, y_test_unfunneled))"
      ],
      "execution_count": 0,
      "outputs": [
        {
          "output_type": "stream",
          "text": [
            "Predicting people's names on the test set\n",
            "done in 0.080s\n",
            "                   precision    recall  f1-score   support\n",
            "\n",
            "     Ariel Sharon       0.89      0.62      0.73        13\n",
            "     Colin Powell       0.78      0.88      0.83        60\n",
            "  Donald Rumsfeld       0.72      0.78      0.75        27\n",
            "    George W Bush       0.89      0.86      0.88       146\n",
            "Gerhard Schroeder       0.68      0.68      0.68        25\n",
            "      Hugo Chavez       0.67      0.67      0.67        15\n",
            "       Tony Blair       0.66      0.64      0.65        36\n",
            "\n",
            "      avg / total       0.80      0.80      0.80       322\n",
            "\n",
            "[[  8   1   2   1   0   1   0]\n",
            " [  0  53   1   3   0   1   2]\n",
            " [  1   1  21   1   1   0   2]\n",
            " [  0   5   4 126   3   1   7]\n",
            " [  0   2   1   3  17   1   1]\n",
            " [  0   2   0   2   1  10   0]\n",
            " [  0   4   0   5   3   1  23]]\n",
            "accuracy_score:  0.8012422360248447\n"
          ],
          "name": "stdout"
        }
      ]
    },
    {
      "metadata": {
        "id": "tugev8250Hiv",
        "colab_type": "text"
      },
      "cell_type": "markdown",
      "source": [
        "Performance of the classifier when using funneled data was better than performance when using unfunneled data. because precesion and recall were higher and also the alignment of images improved accuracy.\n",
        "Additionally, funneling improves the subsequent alignment of facial images which is used to improve positioning for subsequent processing, such as an identification task."
      ]
    },
    {
      "metadata": {
        "id": "jMf0gQEXsZIF",
        "colab_type": "text"
      },
      "cell_type": "markdown",
      "source": [
        "**7. Compare the Eigenfaces plotted in the last part of the tutorial for both the ‘funneled’ and ‘unfunneled’ datasets. You will need to observe the corresponding plots closely. It’s normal that the luminance differs between the two sets of principal components. What is the other side effect of using unfunneled images on the eigenfaces?**"
      ]
    },
    {
      "metadata": {
        "id": "e7u6obMUsbEH",
        "colab_type": "code",
        "outputId": "f2a24a66-b3ce-404c-bf04-ef76d6ca5d73",
        "colab": {
          "base_uri": "https://localhost:8080/",
          "height": 512
        }
      },
      "cell_type": "code",
      "source": [
        "# plot the gallery of the most significative unfunneled eigenfaces\n",
        "\n",
        "eigenface_titles = [\"eigenface %d\" % i for i in range(eigenfaces_unfunneled.shape[0])]\n",
        "plot_gallery(eigenfaces_unfunneled, eigenface_titles, h, w)\n",
        "\n",
        "plt.show()"
      ],
      "execution_count": 0,
      "outputs": [
        {
          "output_type": "display_data",
          "data": {
            "image/png": "[encoded data removed]",
            "text/plain": [
              "<matplotlib.figure.Figure at 0x7fdeacb8c518>"
            ]
          },
          "metadata": {
            "tags": []
          }
        }
      ]
    },
    {
      "metadata": {
        "id": "9SJCIhPwstO9",
        "colab_type": "text"
      },
      "cell_type": "markdown",
      "source": [
        "Unfenneled Version"
      ]
    },
    {
      "metadata": {
        "id": "HU1TBjPx0igr",
        "colab_type": "text"
      },
      "cell_type": "markdown",
      "source": [
        "The funneled version of eigenfaces has more sharpness at the edges and this is because alignment method improves performance on a face recognition task."
      ]
    },
    {
      "metadata": {
        "id": "cLPQ0GpftTY6",
        "colab_type": "text"
      },
      "cell_type": "markdown",
      "source": [
        "**8. Go back to using the best performing classifier and the funneled dataset. Run this classifier using the CPU runtime, the GPU runtime and the TPU runtime. Report the observed speedup if any.**"
      ]
    },
    {
      "metadata": {
        "id": "KRtGjURoETio",
        "colab_type": "text"
      },
      "cell_type": "markdown",
      "source": [
        "CPU Time"
      ]
    },
    {
      "metadata": {
        "id": "rvPg54Z5tVu8",
        "colab_type": "code",
        "outputId": "a0f0a376-6f32-4a57-a99c-6f49f2516274",
        "colab": {
          "base_uri": "https://localhost:8080/",
          "height": 51
        }
      },
      "cell_type": "code",
      "source": [
        "# Train the SVM Using 190 principal components (Funneled)\n",
        "n_components = 190\n",
        "pca = PCA(n_components=n_components, svd_solver='randomized',\n",
        "          whiten=True).fit(X_train)\n",
        "eigenfaces_190 = pca.components_.reshape((n_components, h, w))\n",
        "X_train_pca_190 = pca.transform(X_train)\n",
        "X_test_pca_190 = pca.transform(X_test)\n",
        "\n",
        "print(\"Fitting the classifier to the training set\")\n",
        "t0 = time()\n",
        "clf = SVC(C= 10, gamma= 0.001, kernel='rbf', class_weight='balanced')\n",
        "clf = clf.fit(X_train_pca_190, y_train)\n",
        "print(\"done in %0.3fs\" % (time() - t0))"
      ],
      "execution_count": 0,
      "outputs": [
        {
          "output_type": "stream",
          "text": [
            "Fitting the classifier to the training set\n",
            "done in 0.450s\n"
          ],
          "name": "stdout"
        }
      ]
    },
    {
      "metadata": {
        "id": "DN32Ht5jEWzO",
        "colab_type": "text"
      },
      "cell_type": "markdown",
      "source": [
        "GPU Time"
      ]
    },
    {
      "metadata": {
        "id": "dC0rtHcgEawE",
        "colab_type": "code",
        "outputId": "ff4d26b6-eb63-478b-f0b4-17812dbc832f",
        "colab": {
          "base_uri": "https://localhost:8080/",
          "height": 51
        }
      },
      "cell_type": "code",
      "source": [
        "# Train the SVM Using 190 principal components (Funneled)\n",
        "n_components = 190\n",
        "pca = PCA(n_components=n_components, svd_solver='randomized',\n",
        "          whiten=True).fit(X_train)\n",
        "eigenfaces_190 = pca.components_.reshape((n_components, h, w))\n",
        "X_train_pca_190 = pca.transform(X_train)\n",
        "X_test_pca_190 = pca.transform(X_test)\n",
        "\n",
        "print(\"Fitting the classifier to the training set\")\n",
        "t0 = time()\n",
        "clf = SVC(C= 10, gamma= 0.001, kernel='rbf', class_weight='balanced')\n",
        "clf = clf.fit(X_train_pca_190, y_train)\n",
        "print(\"done in %0.3fs\" % (time() - t0))"
      ],
      "execution_count": 0,
      "outputs": [
        {
          "output_type": "stream",
          "text": [
            "Fitting the classifier to the training set\n",
            "done in 0.386s\n"
          ],
          "name": "stdout"
        }
      ]
    },
    {
      "metadata": {
        "id": "0ml2ylQdEoXr",
        "colab_type": "text"
      },
      "cell_type": "markdown",
      "source": [
        "TPU Time"
      ]
    },
    {
      "metadata": {
        "id": "IEoDlnVsElfJ",
        "colab_type": "code",
        "outputId": "7cb0b5b6-9812-4383-93c8-3cc693a8ac63",
        "colab": {
          "base_uri": "https://localhost:8080/",
          "height": 51
        }
      },
      "cell_type": "code",
      "source": [
        "# Train the SVM Using 190 principal components (Funneled)\n",
        "n_components = 190\n",
        "pca = PCA(n_components=n_components, svd_solver='randomized',\n",
        "          whiten=True).fit(X_train)\n",
        "eigenfaces_190 = pca.components_.reshape((n_components, h, w))\n",
        "X_train_pca_190 = pca.transform(X_train)\n",
        "X_test_pca_190 = pca.transform(X_test)\n",
        "\n",
        "print(\"Fitting the classifier to the training set\")\n",
        "t0 = time()\n",
        "clf = SVC(C= 10, gamma= 0.001, kernel='rbf', class_weight='balanced')\n",
        "clf = clf.fit(X_train_pca_190, y_train)\n",
        "print(\"done in %0.3fs\" % (time() - t0))"
      ],
      "execution_count": 0,
      "outputs": [
        {
          "output_type": "stream",
          "text": [
            "Fitting the classifier to the training set\n",
            "done in 0.482s\n"
          ],
          "name": "stdout"
        }
      ]
    },
    {
      "metadata": {
        "id": "D2AGUheXE2OD",
        "colab_type": "text"
      },
      "cell_type": "markdown",
      "source": [
        "there is no significant differences between running in CPU, TPU, and GPU times, and that is because scikit-learn doen't support running in GPU or TPU. it only runs in CPU time. this answer is based on this resource : https://stackoverflow.com/questions/41567895/will-scikit-learn-utilize-gpu?fbclid=IwAR3xo3J_LVAN5_bbq4CBC88mAw1q0BxIqKjgtk16IeA3VWGXBaogqyxDRT0"
      ]
    }
  ]
}